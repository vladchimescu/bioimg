{
 "cells": [
  {
   "cell_type": "markdown",
   "metadata": {},
   "source": [
    "# Starting Out With Bioimage Processing in Python\n",
    "*Author: Vladislav Kim*\n",
    "* [Introduction](#intro)\n",
    "* [Bioimage formats and loading](#load)\n",
    "* [Viewing Images in Jupyter](#view)\n",
    "* [Handling multichannel images with $z$-stack](#compleximages)\n",
    "* [Applications to high-content screening](#hcs)\n",
    "* [Writing images](#writeimg)\n",
    "\n",
    "\n",
    "<a id=\"intro\"></a> \n",
    "## Introduction\n",
    "In this notebook we show how to load and visualize microscopy images in Python. There is a vast number of microscopy image formats in use and with the help of `python-bioformats` we can effortlessly load these in Python. We will demonstrate a number of use cases for `base.utils` module which has a number of useful functions for visualizing, reading and writing complex images (multichannel, 3D, etc).\n",
    "\n",
    "\n",
    "The first step before running this notebook would be to set up a conda environment with all the dependencies (see [README](https://github.com/vladchimescu/bioimg/blob/master/README.md)). Once the environment is set up, activate it and start jupyter server in the activated environment.\n"
   ]
  },
  {
   "cell_type": "code",
   "execution_count": null,
   "metadata": {},
   "outputs": [],
   "source": [
    "# load third-party Python modules\n",
    "import javabridge\n",
    "import bioformats as bf\n",
    "import skimage\n",
    "import numpy as np\n",
    "import matplotlib.pyplot as plt\n",
    "\n",
    "import sys\n",
    "sys.path.append('..')\n",
    "\n",
    "javabridge.start_vm(class_path=bf.JARS)"
   ]
  },
  {
   "cell_type": "markdown",
   "metadata": {},
   "source": [
    "<a id=\"load\"></a> \n",
    "## Bioimage formats and data loading\n",
    "Bio-Formats library, developed by Open Microscopy Environment (OME), supports 150 bioimage formats. Some of the supported formats include common image file extensions such as TIFF, JPG and PNG, but can handle some proprietary microscopy formats such as Zeiss CZI, Leica LCF, Canon DNG, etc. For the full list of supported image formats refer to [this page](https://docs.openmicroscopy.org/bio-formats/6.3.1/supported-formats.html).\n",
    "\n",
    "\n",
    " We provide a number of example images that can be downloaded (see [download.md](https://github.com/vladchimescu/bioimg/blob/master/Jupyter/data/download.md)). We will start out with images of leukemia and stroma nuclei (`data/CLL-coculture` after you downloaded the files from Dropbox). The imaged well has 2 color channels: Hoechst for nucleus staining and a dye that marks lyosomal compartments. \n",
    "\n",
    "The first step is to load microscopy images. The images that we will be working with are in TIFF format. In the local module `base.utils` we provide a function `read_image` which is a wrapper that reads 2D images (in any of the OME-supported formats) and outputs a `numpy.array` object:"
   ]
  },
  {
   "cell_type": "code",
   "execution_count": null,
   "metadata": {},
   "outputs": [],
   "source": [
    "from base.utils import read_image\n",
    "img_ho = read_image(fname='data/CLL-coculture/r01c02f01-Hoechst.tiff')"
   ]
  },
  {
   "cell_type": "markdown",
   "metadata": {},
   "source": [
    "Two-dimensional images can be represented as 2D numerical arrays (`np.array`) or matrices:"
   ]
  },
  {
   "cell_type": "code",
   "execution_count": null,
   "metadata": {},
   "outputs": [],
   "source": [
    "print(type(img_ho))\n",
    "print(img_ho.shape)"
   ]
  },
  {
   "cell_type": "markdown",
   "metadata": {},
   "source": [
    "<a id=\"view\"></a> \n",
    "## Viewing Images in Jupyter\n",
    "We can plot the image arrays using `mapltolib` as grey-scale images:"
   ]
  },
  {
   "cell_type": "code",
   "execution_count": null,
   "metadata": {},
   "outputs": [],
   "source": [
    "plt.figure(figsize=(7,7))\n",
    "plt.imshow(img_ho)\n",
    "plt.axis('off')"
   ]
  },
  {
   "cell_type": "markdown",
   "metadata": {},
   "source": [
    "If a microscopy image has several color channels, these can be plotted individually as grey-scale images side by side. Load another chanel of the same well:"
   ]
  },
  {
   "cell_type": "code",
   "execution_count": null,
   "metadata": {},
   "outputs": [],
   "source": [
    "img_ly = read_image(fname='data/CLL-coculture/r01c02f01-Ly.tiff')"
   ]
  },
  {
   "cell_type": "markdown",
   "metadata": {},
   "source": [
    "To view the color channels side by side use `plot_channels` from `base.plot`:"
   ]
  },
  {
   "cell_type": "code",
   "execution_count": null,
   "metadata": {},
   "outputs": [],
   "source": [
    "from base.plot import plot_channels\n",
    "plot_channels([img_ho, img_ly], titles=['Nuclei', 'Lysosomes'], nrow=1, ncol=2)"
   ]
  },
  {
   "cell_type": "markdown",
   "metadata": {},
   "source": [
    "You can combine channels in a single image, use `combine_channels` function and specify the colors for each channel:"
   ]
  },
  {
   "cell_type": "code",
   "execution_count": null,
   "metadata": {},
   "outputs": [],
   "source": [
    "from base.plot import combine_channels\n",
    "# here we use gamma correction for 'img_ho'\n",
    "img_overlay = combine_channels([img_ho**0.5, img_ly],\n",
    "                               colors=['blue', 'white'],\n",
    "                               blend = [1.5, 0.7])"
   ]
  },
  {
   "cell_type": "code",
   "execution_count": null,
   "metadata": {},
   "outputs": [],
   "source": [
    "plt.figure(figsize=(10,10))\n",
    "plt.imshow(img_overlay)\n",
    "plt.axis('off')"
   ]
  },
  {
   "cell_type": "markdown",
   "metadata": {},
   "source": [
    "<a id=\"compleximages\"></a> \n",
    "## Handling compound multichannel images (high-content screening)\n",
    "In addition to color information, microscopy images may have optical sections along the $z$-axis. Handling 3D multichannel data is trivial in Python, as these can be represented as (3D+color)-`np.array`. We can load one such image using `load_imgstack` function"
   ]
  },
  {
   "cell_type": "code",
   "execution_count": null,
   "metadata": {},
   "outputs": [],
   "source": [
    "from base.utils import load_imgstack\n",
    "imgstack = load_imgstack(fname=\"data/BiTE/Tag2-r04c02f1.tiff\")"
   ]
  },
  {
   "cell_type": "markdown",
   "metadata": {},
   "source": [
    "Usually the first dimension is reserved for optical sections ($z$-stack), the next two dimensions describe image coordinates ($xy$-plane) and the last dimension is to indicate color channel. The `imgstack` array uses precisely this order.\n",
    "\n",
    "First we can apply maximum intensity projection (MIP) to aggregate images along the $z$-direction and make them two-dimensional (+ color)"
   ]
  },
  {
   "cell_type": "code",
   "execution_count": null,
   "metadata": {},
   "outputs": [],
   "source": [
    "mip = np.amax(imgstack, axis=0)\n",
    "print(mip.shape)"
   ]
  },
  {
   "cell_type": "markdown",
   "metadata": {},
   "source": [
    "As mentioned before channels are in the last array axis (dimension), we can split the color channels and plot them side by side:"
   ]
  },
  {
   "cell_type": "code",
   "execution_count": null,
   "metadata": {},
   "outputs": [],
   "source": [
    "# split individual color channels and place them in a list\n",
    "mip_split = [mip[:,:,i] for i in range(mip.shape[2])]"
   ]
  },
  {
   "cell_type": "code",
   "execution_count": null,
   "metadata": {},
   "outputs": [],
   "source": [
    "plot_channels(mip_split,\n",
    "              nrow=1, ncol=4,\n",
    "              titles=['CD20+', 'Calcein',\n",
    "                      'Nuclei', 'CD8+'])"
   ]
  },
  {
   "cell_type": "code",
   "execution_count": null,
   "metadata": {},
   "outputs": [],
   "source": [
    "mip_color = combine_channels(mip_split, \n",
    "                             colors=['red', 'green',\n",
    "                                     'blue','orange'],\n",
    "                             # these are optional (see documentation)\n",
    "                             blend = [0.8, 0.8, 2, 0.8],\n",
    "                             gamma = [0.3, 0.3, 0.4, 0.3])"
   ]
  },
  {
   "cell_type": "code",
   "execution_count": null,
   "metadata": {},
   "outputs": [],
   "source": [
    "plt.figure(figsize=(10,10))\n",
    "plt.imshow(mip_color)\n",
    "plt.axis('off')"
   ]
  },
  {
   "cell_type": "markdown",
   "metadata": {},
   "source": [
    "*You can skip 'Applications to High-Content Screening' upon first reading*\n",
    "<a id=\"hcs\"></a> \n",
    "## Applications to High-Content Screening\n",
    "Some microscopes output a series of images instead of a single image stack. We can use the function `base.utils.load_image_series` to load all the color channels and $z$-stack in a single `numpy.array`.\n",
    "\n",
    "\n",
    "Here we will load a series of images from a high-content screen. Wells of a 384-well plate are numbered (r01 = row 1, c16 = column 16) and we would like to load a single well that has \n",
    "+ 3 color channels\n",
    "+ 7 optical sections ($z$-stack)\n",
    "+ 3 fields of view (sampled positions in the $xy$-plane at which the well was imaged)\n",
    "\n",
    "Suppose we want to load well 'r01c02' and only the first field of view ('f01'):"
   ]
  },
  {
   "cell_type": "code",
   "execution_count": null,
   "metadata": {},
   "outputs": [],
   "source": [
    "# list files\n",
    "import os\n",
    "files = os.listdir('data/AML_screen')\n",
    "print(files[:5])"
   ]
  },
  {
   "cell_type": "code",
   "execution_count": null,
   "metadata": {},
   "outputs": [],
   "source": [
    "# well r01c02, position 1 (f01)\n",
    "import re\n",
    "wellfiles = [re.search('r01c02f01.+', f).group() for f in files\n",
    "                if re.search('r01c02f01', f)]\n",
    "# sort them lexicographically\n",
    "wellfiles.sort()\n",
    "\n",
    "print(wellfiles[:5])"
   ]
  },
  {
   "cell_type": "code",
   "execution_count": null,
   "metadata": {},
   "outputs": [],
   "source": [
    "from base.utils import load_image_series\n",
    "imgseries = load_image_series(path='data/AML_screen', imgfiles=wellfiles)"
   ]
  },
  {
   "cell_type": "markdown",
   "metadata": {},
   "source": [
    "Before reading in images, `load_image_series` sorts the file names lexicographically so that the array is filled in the right order. Here the images are first sorted by `p[0-9` ($z$-position) and then by color channel. We can reshape the array to have 10 $z$-sections, 3 color channels and the width (2160) and height (2160)."
   ]
  },
  {
   "cell_type": "code",
   "execution_count": null,
   "metadata": {},
   "outputs": [],
   "source": [
    "imgseries = imgseries.reshape((10, 3, 2160,2160))"
   ]
  },
  {
   "cell_type": "markdown",
   "metadata": {},
   "source": [
    "We can get rid of the $z$-axis by taking maximum value across all the $z$-sections -- the so-called maximum intensity projection (MIP)"
   ]
  },
  {
   "cell_type": "code",
   "execution_count": null,
   "metadata": {},
   "outputs": [],
   "source": [
    "mipseries = np.amax(imgseries, axis=0)"
   ]
  },
  {
   "cell_type": "markdown",
   "metadata": {},
   "source": [
    "Now we've got an array with 3 images corresponding to individual color channels:"
   ]
  },
  {
   "cell_type": "code",
   "execution_count": null,
   "metadata": {},
   "outputs": [],
   "source": [
    "# plot 3 channels side by side\n",
    "plot_channels([mipseries[i] for i in range(3)], nrow=1, ncol=3)"
   ]
  },
  {
   "cell_type": "markdown",
   "metadata": {},
   "source": [
    "These can be combined in a single image:"
   ]
  },
  {
   "cell_type": "code",
   "execution_count": null,
   "metadata": {},
   "outputs": [],
   "source": [
    "rgbseries = combine_channels([mipseries[i] for i in range(3)],\n",
    "                            colors=['blue', 'red', 'green'],\n",
    "                            blend=[1.5,1.5,2],\n",
    "                            gamma=[0.6, 0.6,0.6])"
   ]
  },
  {
   "cell_type": "code",
   "execution_count": null,
   "metadata": {},
   "outputs": [],
   "source": [
    "plt.figure(figsize=(10,10))\n",
    "plt.imshow(rgbseries)\n",
    "plt.axis('off')"
   ]
  },
  {
   "cell_type": "markdown",
   "metadata": {},
   "source": [
    "<a id=\"writeimg\"></a> \n",
    "## Writing images\n",
    "We can save processed images in OME-supported formats: "
   ]
  },
  {
   "cell_type": "code",
   "execution_count": null,
   "metadata": {},
   "outputs": [],
   "source": [
    "# apply gamma correction\n",
    "img_out = img_ho**0.5"
   ]
  },
  {
   "cell_type": "code",
   "execution_count": null,
   "metadata": {},
   "outputs": [],
   "source": [
    "from base.utils import write_image\n",
    "write_image(img_out, path='data/Hoechst-image.png')"
   ]
  },
  {
   "cell_type": "markdown",
   "metadata": {},
   "source": [
    "To save an image stack:"
   ]
  },
  {
   "cell_type": "code",
   "execution_count": null,
   "metadata": {},
   "outputs": [],
   "source": [
    "imgstack_out = np.swapaxes(mipseries, 0, 2)"
   ]
  },
  {
   "cell_type": "code",
   "execution_count": null,
   "metadata": {},
   "outputs": [],
   "source": [
    "from base.utils import write_imgstack\n",
    "write_imgstack(img=imgstack_out, path='data/MIP-AML.tiff',\n",
    "           size_z=1, size_c=3)"
   ]
  },
  {
   "cell_type": "code",
   "execution_count": null,
   "metadata": {},
   "outputs": [],
   "source": [
    "javabridge.kill_vm()"
   ]
  },
  {
   "cell_type": "markdown",
   "metadata": {},
   "source": [
    "In the [next notebook](https://github.com/vladchimescu/bioimg/blob/master/Jupyter/2-image-transformation.ipynb) we will show how images can be preprocessed using various transformations avaialbe in `scikit-image` library before downstream analysis, such as segmentation, is run."
   ]
  },
  {
   "cell_type": "code",
   "execution_count": null,
   "metadata": {},
   "outputs": [],
   "source": []
  }
 ],
 "metadata": {
  "kernelspec": {
   "display_name": "Python 2",
   "language": "python",
   "name": "python2"
  },
  "language_info": {
   "codemirror_mode": {
    "name": "ipython",
    "version": 2
   },
   "file_extension": ".py",
   "mimetype": "text/x-python",
   "name": "python",
   "nbconvert_exporter": "python",
   "pygments_lexer": "ipython2",
   "version": "2.7.14"
  }
 },
 "nbformat": 4,
 "nbformat_minor": 2
}
