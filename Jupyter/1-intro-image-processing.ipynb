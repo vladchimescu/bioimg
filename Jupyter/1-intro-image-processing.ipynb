{
 "cells": [
  {
   "cell_type": "markdown",
   "metadata": {},
   "source": [
    "# Bioimage Handling in Python for Beginners\n",
    "*Author: Vladislav Kim*\n",
    "* [Introduction](#intro)\n",
    "* [Bioimage formats and loading](#load)\n",
    "* [Viewing Images in Jupyter](#view)\n",
    "* [Handling multichannel images with $z$-stack](#compleximages)\n",
    "* [Applications to high-content screening](#hcs)\n",
    "* [Writing images](#writeimg)\n",
    "\n",
    "\n",
    "<a id=\"intro\"></a> \n",
    "## Introduction\n",
    "Before applying segmentation or a machine learning model on the imaging data set there may be a number of preprocessing steps that can transform the image and adjust numerous parameters such as brightness, contrast, noise. We may also want to combine or split color channels or apply filters that enhance or suppress certain image features.\n",
    "\n",
    "\n",
    "In this notebook we show how to load a microscopy image in Python using `python-bioformats`. We load images as `numpy.array` objects. We also show how the images represented as `numpy.array` can be preprocessed using various transformations avaialbe in `scikit-image` library before downstream analysis, such as segmentation, is run.\n",
    "\n",
    "\n",
    "The first step before running this notebook would be to set up a conda environment with all the dependencies (see README for instructions). Once the environment is set up, activate it and start jupyter server in the environment.\n"
   ]
  },
  {
   "cell_type": "code",
   "execution_count": null,
   "metadata": {},
   "outputs": [],
   "source": [
    "# load third-party Python modules\n",
    "import javabridge\n",
    "import bioformats as bf\n",
    "import skimage\n",
    "import numpy as np\n",
    "import matplotlib.pyplot as plt\n",
    "\n",
    "import sys\n",
    "sys.path.append('..')\n",
    "\n",
    "javabridge.start_vm(class_path=bf.JARS)"
   ]
  },
  {
   "cell_type": "markdown",
   "metadata": {},
   "source": [
    "<a id=\"load\"></a> \n",
    "## Bioimage formats and data loading\n",
    "Open Microscopy Environment (OME), a consortium of research institutes and universities, supports 150 bioimage formats. Their Java library `bioformats` is available in Python. Among the supported formats we can find common formats such as TIFF, JPG and PNG, but also proprietary formats such as Zeiss CZI, Leica LCF, Canon DNG, etc\n",
    "\n",
    "\n",
    "We provide an example of an image stack (download here [insert link] and unzip in the same directory as Jupyter notebook). The first step is to load microscopy images. The images that we will be working with are in TIFF format.\n",
    "\n",
    "To read in a basic TIFF file, initialize a bioformats reader object and provide the file name:"
   ]
  },
  {
   "cell_type": "markdown",
   "metadata": {},
   "source": [
    "In the local module `transform.basic` we provide a function `read_tiff` which is a wrapper that reads in the image and outputs a `numpy.array` object"
   ]
  },
  {
   "cell_type": "code",
   "execution_count": null,
   "metadata": {},
   "outputs": [],
   "source": [
    "from transform.basic import read_tiff\n",
    "img_ho = read_tiff(fname='data/CLL-coculture/r01c02f01-Hoechst.tiff')"
   ]
  },
  {
   "cell_type": "markdown",
   "metadata": {},
   "source": [
    "Two-dimensional images can be represented as 2D numerical arrays (`np.array`) or matrices:"
   ]
  },
  {
   "cell_type": "code",
   "execution_count": null,
   "metadata": {},
   "outputs": [],
   "source": [
    "print(type(img_ho))\n",
    "print(img_ho.shape)"
   ]
  },
  {
   "cell_type": "markdown",
   "metadata": {},
   "source": [
    "<a id=\"view\"></a> \n",
    "## Viewing Images in Jupyter\n",
    "We can plot the image arrays using `mapltolib` as grey-scale images:"
   ]
  },
  {
   "cell_type": "code",
   "execution_count": null,
   "metadata": {},
   "outputs": [],
   "source": [
    "plt.figure(figsize=(7,7))\n",
    "plt.imshow(img_ho)\n",
    "plt.axis('off')"
   ]
  },
  {
   "cell_type": "markdown",
   "metadata": {},
   "source": [
    "If a microscopy image has several channels, these can be plotted individually as grey-scale images side by side. Load another chanel of the same image:"
   ]
  },
  {
   "cell_type": "code",
   "execution_count": null,
   "metadata": {},
   "outputs": [],
   "source": [
    "img_ly = read_tiff(fname='data/CLL-coculture/r01c02f01-Ly.tiff')"
   ]
  },
  {
   "cell_type": "markdown",
   "metadata": {},
   "source": [
    "Side by side view:"
   ]
  },
  {
   "cell_type": "code",
   "execution_count": null,
   "metadata": {},
   "outputs": [],
   "source": [
    "from visualize.plot_static import plot_channels\n",
    "plot_channels([img_ho, img_ly], titles=['Nuclei', 'Lysosomes'], nrow=1, ncol=2)"
   ]
  },
  {
   "cell_type": "markdown",
   "metadata": {},
   "source": [
    "Or combined as an RGB-overlaid image:"
   ]
  },
  {
   "cell_type": "code",
   "execution_count": null,
   "metadata": {},
   "outputs": [],
   "source": [
    "from visualize.plot_static import combine_channels\n",
    "# here we use gamma correction for 'img_ho'\n",
    "img_overlay = combine_channels([img_ho**0.5, img_ly],\n",
    "                               colors=['blue', 'white'],\n",
    "                               blend = [1.5, 0.7])"
   ]
  },
  {
   "cell_type": "code",
   "execution_count": null,
   "metadata": {},
   "outputs": [],
   "source": [
    "plt.figure(figsize=(10,10))\n",
    "plt.imshow(img_overlay)\n",
    "plt.axis('off')"
   ]
  },
  {
   "cell_type": "markdown",
   "metadata": {},
   "source": [
    "<a id=\"compleximages\"></a> \n",
    "## Handling compound multichannel images (high-content screening)\n",
    "In addition to color information, microscopy images may have optical sections along the $z$-axis. Handling 3D multichannel data is trivial in Python, as these can be represented as (3D+color)-`np.array`. We can load one such image using `load_imgstack` function"
   ]
  },
  {
   "cell_type": "code",
   "execution_count": null,
   "metadata": {},
   "outputs": [],
   "source": [
    "from transform.basic import load_imgstack\n",
    "imgstack = load_imgstack(fname=\"data/BiTE/Tag2-r04c02f1.tiff\")"
   ]
  },
  {
   "cell_type": "markdown",
   "metadata": {},
   "source": [
    "The convention is that the first dimension is reserved for optical sections ($z$-stack), the next two dimensions describe image coordinates ($xy$-plane) and the last dimension is for channel information. \n",
    "\n",
    "First we can use maximum intensity projection (MIP) to aggregate images along the $z$-direction and make them two-dimensional (+ color)"
   ]
  },
  {
   "cell_type": "code",
   "execution_count": null,
   "metadata": {},
   "outputs": [],
   "source": [
    "mip = np.amax(imgstack, axis=0)\n",
    "print(mip.shape)"
   ]
  },
  {
   "cell_type": "markdown",
   "metadata": {},
   "source": [
    "As mentioned before channels are in the last array axis (dimension), we can split the color channels and plot them side by side:"
   ]
  },
  {
   "cell_type": "code",
   "execution_count": null,
   "metadata": {},
   "outputs": [],
   "source": [
    "# split individual color channels and place them in a list\n",
    "mip_split = [mip[:,:,i] for i in range(mip.shape[2])]"
   ]
  },
  {
   "cell_type": "code",
   "execution_count": null,
   "metadata": {},
   "outputs": [],
   "source": [
    "plot_channels(mip_split,\n",
    "              nrow=1, ncol=4,\n",
    "              titles=['CD20+', 'Calcein',\n",
    "                      'Nuclei', 'CD8+'])"
   ]
  },
  {
   "cell_type": "code",
   "execution_count": null,
   "metadata": {},
   "outputs": [],
   "source": [
    "mip_color = combine_channels(mip_split, \n",
    "                             colors=['red', 'green',\n",
    "                                     'blue','orange'],\n",
    "                             # these are optional (see documentation)\n",
    "                             blend = [0.8, 0.8, 2, 0.8],\n",
    "                             gamma = [0.3, 0.3, 0.4, 0.3])"
   ]
  },
  {
   "cell_type": "code",
   "execution_count": null,
   "metadata": {},
   "outputs": [],
   "source": [
    "plt.figure(figsize=(10,10))\n",
    "plt.imshow(mip_color)\n",
    "plt.axis('off')"
   ]
  },
  {
   "cell_type": "markdown",
   "metadata": {},
   "source": [
    "*You can skip 'Applications to High-Content Screening' upon first reading*\n",
    "<a id=\"hcs\"></a> \n",
    "## Applications to High-Content Screening\n",
    "Some microscopes output a series of images instead of a single image stack. We can use the function `transform.basic.load_image_series` to load all the color channels and $z$-stack in a single `numpy.array`.\n",
    "\n",
    "\n",
    "Here we will load a series of images from a high-content screen. Wells of a 384-well plate are numbered (r01 = row 1, c16 = column 16) and we would like to load a single well that has \n",
    "+ 3 color channels\n",
    "+ 7 optical sections ($z$-stack)\n",
    "+ 3 fields of view (sampled positions in the $xy$-plane at which the well was imaged)\n",
    "\n",
    "Suppose we want to load well 'r01c02' and only the first field of view ('f01'):"
   ]
  },
  {
   "cell_type": "code",
   "execution_count": null,
   "metadata": {},
   "outputs": [],
   "source": [
    "# list files\n",
    "import os\n",
    "files = os.listdir('data/AML_screen')\n",
    "print(files[:5])"
   ]
  },
  {
   "cell_type": "code",
   "execution_count": null,
   "metadata": {},
   "outputs": [],
   "source": [
    "# well r01c02, position 1 (f01)\n",
    "import re\n",
    "wellfiles = [re.search('r01c02f01.+', f).group() for f in files\n",
    "                if re.search('r01c02f01', f)]\n",
    "# sort them lexicographically\n",
    "wellfiles.sort()\n",
    "\n",
    "print(wellfiles[:5])"
   ]
  },
  {
   "cell_type": "code",
   "execution_count": null,
   "metadata": {},
   "outputs": [],
   "source": [
    "from transform.basic import load_image_series\n",
    "imgseries = load_image_series(path='data/AML_screen', imgfiles=wellfiles)"
   ]
  },
  {
   "cell_type": "code",
   "execution_count": null,
   "metadata": {},
   "outputs": [],
   "source": [
    "imgseries = imgseries.reshape((10, 3, 2160,2160))"
   ]
  },
  {
   "cell_type": "code",
   "execution_count": null,
   "metadata": {},
   "outputs": [],
   "source": [
    "mipseries = np.amax(imgseries, axis=0)"
   ]
  },
  {
   "cell_type": "code",
   "execution_count": null,
   "metadata": {},
   "outputs": [],
   "source": [
    "# plot 3 channels side by side\n",
    "plot_channels([mipseries[i] for i in range(3)], nrow=1, ncol=3)"
   ]
  },
  {
   "cell_type": "code",
   "execution_count": null,
   "metadata": {},
   "outputs": [],
   "source": [
    "rgbseries = combine_channels([mipseries[i] for i in range(3)],\n",
    "                            colors=['blue', 'red', 'green'],\n",
    "                            blend=[1.5,1.5,2],\n",
    "                            gamma=[0.6, 0.6,0.6])"
   ]
  },
  {
   "cell_type": "code",
   "execution_count": null,
   "metadata": {},
   "outputs": [],
   "source": [
    "plt.figure(figsize=(10,10))\n",
    "plt.imshow(rgbseries)\n",
    "plt.axis('off')"
   ]
  },
  {
   "cell_type": "markdown",
   "metadata": {},
   "source": [
    "<a id=\"writeimg\"></a> \n",
    "## Writing images"
   ]
  },
  {
   "cell_type": "code",
   "execution_count": null,
   "metadata": {},
   "outputs": [],
   "source": []
  },
  {
   "cell_type": "code",
   "execution_count": null,
   "metadata": {},
   "outputs": [],
   "source": [
    "javabridge.kill_vm()"
   ]
  },
  {
   "cell_type": "code",
   "execution_count": null,
   "metadata": {},
   "outputs": [],
   "source": []
  }
 ],
 "metadata": {
  "kernelspec": {
   "display_name": "Python 2",
   "language": "python",
   "name": "python2"
  },
  "language_info": {
   "codemirror_mode": {
    "name": "ipython",
    "version": 2
   },
   "file_extension": ".py",
   "mimetype": "text/x-python",
   "name": "python",
   "nbconvert_exporter": "python",
   "pygments_lexer": "ipython2",
   "version": "2.7.14"
  }
 },
 "nbformat": 4,
 "nbformat_minor": 2
}
