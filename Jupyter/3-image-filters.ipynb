{
 "cells": [
  {
   "cell_type": "markdown",
   "metadata": {},
   "source": [
    "# Image Filters and Feature Enhancement\n",
    "*Author: Vladislav Kim*\n",
    "* [Introduction](#intro)\n",
    "* [Edge enhancement](#edge)\n",
    "* [Blob and circle detection](#spot)\n",
    "* [Local intensity maxima](#peaks)\n",
    "\n",
    "<a id=\"intro\"></a> \n",
    "## Introduction\n",
    "In addition to denoising, thresholding and background subtraction that were covered in the [previous](https://github.com/vladchimescu/bioimg/blob/master/Jupyter/2-image-transformation.ipynb) notebook, there are a number of feature enhancing image transformations that can be useful for microscopy image analysis. In many applications we are interested in finding edges or enhancing object boundaries. Also common in microscopy are spherical shapes, e.g. nuclei, which can be detected using Laplace-of-Gaussian (LoG) operator."
   ]
  },
  {
   "cell_type": "code",
   "execution_count": null,
   "metadata": {},
   "outputs": [],
   "source": [
    "# load third-party Python modules\n",
    "import javabridge\n",
    "import bioformats as bf\n",
    "import skimage\n",
    "import numpy as np\n",
    "import matplotlib.pyplot as plt\n",
    "import seaborn as sn\n",
    "\n",
    "import sys\n",
    "sys.path.append('..')\n",
    "\n",
    "javabridge.start_vm(class_path=bf.JARS)"
   ]
  },
  {
   "cell_type": "markdown",
   "metadata": {},
   "source": [
    "We will start by loading an image stack of B and T cells with stained nuclei (Hoechst), viability marker (Calcein) and surface markers (APC, PE)."
   ]
  },
  {
   "cell_type": "code",
   "execution_count": null,
   "metadata": {},
   "outputs": [],
   "source": [
    "from base.utils import load_imgstack\n",
    "imgstack = load_imgstack(fname=\"data/BiTE/Tag2-r04c02f1.tiff\")"
   ]
  },
  {
   "cell_type": "code",
   "execution_count": null,
   "metadata": {},
   "outputs": [],
   "source": [
    "mip=np.max(imgstack, axis=0)"
   ]
  },
  {
   "cell_type": "code",
   "execution_count": null,
   "metadata": {},
   "outputs": [],
   "source": [
    "from base.plot import plot_channels\n",
    "channels = ['PE', 'Calcein', 'Hoechst', 'APC']\n",
    "plot_channels([mip[:,:,i]**0.5 for i in range(4)],\n",
    "              nrow=1, ncol=4, titles=channels)"
   ]
  },
  {
   "cell_type": "markdown",
   "metadata": {},
   "source": [
    "<a id=\"edge\"></a> \n",
    "## Edge enhancement\n",
    "We will apply edge enhancement on the APC channel with the stained B cell surface marker:"
   ]
  },
  {
   "cell_type": "code",
   "execution_count": null,
   "metadata": {},
   "outputs": [],
   "source": [
    "apc = mip[:,:,3]**0.3"
   ]
  },
  {
   "cell_type": "markdown",
   "metadata": {},
   "source": [
    "Edges are object boundaries such as the interface between a foreground object (e.g. a cell) and the background, which can be detected using gradient operators. In `skimage.filters` module there is a number of image gradient approximations such as Sobel, Roberts, Scharr, and Prewitt operators"
   ]
  },
  {
   "cell_type": "code",
   "execution_count": null,
   "metadata": {},
   "outputs": [],
   "source": [
    "from skimage.filters import sobel"
   ]
  },
  {
   "cell_type": "code",
   "execution_count": null,
   "metadata": {},
   "outputs": [],
   "source": [
    "plot_channels([apc, sobel(apc)],\n",
    "             nrow=1, ncol=2,\n",
    "             titles=['Original', 'Sobel edge enhancement'],\n",
    "             cmap='gray', scale_x=7, scale_y=7)"
   ]
  },
  {
   "cell_type": "markdown",
   "metadata": {},
   "source": [
    "After Sobel operator is applied, the image has more pronounced edges, i.e. cell surface boundaries appear enhanced. Note that the resulting image is not binary and has a distribution shifted towards zero as non-edge pixels are suppresed:"
   ]
  },
  {
   "cell_type": "code",
   "execution_count": null,
   "metadata": {},
   "outputs": [],
   "source": [
    "plt.figure(figsize=(6,6))\n",
    "sn.distplot(apc, kde=False, label='Original image')\n",
    "sn.distplot(sobel(apc), kde=False, label='Sobel edge enhancement')\n",
    "plt.xlabel('Intensity')\n",
    "plt.legend()"
   ]
  },
  {
   "cell_type": "markdown",
   "metadata": {},
   "source": [
    "We can achieve a similar result by computing the magnitude of the image gradient:\n",
    "$$ |\\nabla g| = \\sqrt{\\left(\\frac{\\partial g}{\\partial x}\\right)^2 + \\left(\\frac{\\partial g}{\\partial y}\\right)^2} $$"
   ]
  },
  {
   "cell_type": "code",
   "execution_count": null,
   "metadata": {},
   "outputs": [],
   "source": [
    "# compute x and y components of the gradient\n",
    "g_x, g_y = np.gradient(apc)\n",
    "# magnitude of the gradient\n",
    "g_norm = np.sqrt(g_x**2 + g_y**2)"
   ]
  },
  {
   "cell_type": "code",
   "execution_count": null,
   "metadata": {},
   "outputs": [],
   "source": [
    "plt.figure(figsize=(8,8))\n",
    "plt.imshow(g_norm, cmap='gray')\n",
    "plt.title('Gradient image')\n",
    "plt.axis('off')"
   ]
  },
  {
   "cell_type": "markdown",
   "metadata": {},
   "source": [
    "<a id=\"spot\"></a>\n",
    "## Blob and circle detection\n",
    "There are a number of methods for blob (bright spot) detection, most of which are based on Laplace-of-Gaussian operator applied with varying scale parameter $\\sigma$ (more on that later). First we will adjust the brightness of the image of the nuclei using gamma correction."
   ]
  },
  {
   "cell_type": "code",
   "execution_count": null,
   "metadata": {},
   "outputs": [],
   "source": [
    "hoechst = mip[:,:,2]**0.4"
   ]
  },
  {
   "cell_type": "code",
   "execution_count": null,
   "metadata": {},
   "outputs": [],
   "source": [
    "from transform.process import threshold_img\n",
    "from skimage.feature import blob_log"
   ]
  },
  {
   "cell_type": "markdown",
   "metadata": {},
   "source": [
    "We will apply blob detection on a thresholded image using on LoG (Laplace of Gaussian) operator with varying Gaussian smoothing parameter $\\sigma$. The range of values to be considered has to be specified. Since\n",
    "$$r \\propto \\sigma$$\n",
    "we can provide the lower and upper bounds of the estimated radius of the blobs by passing these values to `min_sigma` and `max_sigma` arguments:"
   ]
  },
  {
   "cell_type": "code",
   "execution_count": null,
   "metadata": {},
   "outputs": [],
   "source": [
    "# threshold the image of nuclei\n",
    "img_th = threshold_img(hoechst, method='otsu')\n",
    "# blob detection using LoG\n",
    "blobs = blob_log(img_th,\n",
    "                 min_sigma=10, max_sigma=12, threshold=0.05)"
   ]
  },
  {
   "cell_type": "code",
   "execution_count": null,
   "metadata": {},
   "outputs": [],
   "source": [
    "# number of detected blobs\n",
    "blobs.shape"
   ]
  },
  {
   "cell_type": "markdown",
   "metadata": {},
   "source": [
    "In each row of the `blobs` object we have $(x,y)$-coordinates of the blob center and its radius. We can plot the detected spots and overlay with the original image of the nuclei. The blobs will be visualized as teal circles."
   ]
  },
  {
   "cell_type": "code",
   "execution_count": null,
   "metadata": {},
   "outputs": [],
   "source": [
    "fig, ax = plt.subplots(figsize=(10,10))\n",
    "for blob in blobs:\n",
    "    y, x, r = blob\n",
    "    c = plt.Circle((x, y), r, color='cyan', linewidth=1.2, fill=False)\n",
    "    ax.add_patch(c)\n",
    "ax.imshow(hoechst, cmap='gray')\n",
    "ax.axis('off')"
   ]
  },
  {
   "cell_type": "markdown",
   "metadata": {},
   "source": [
    "In addition to Laplace-of-Gaussian blob detection we can use Hough transform to detect circles:\n"
   ]
  },
  {
   "cell_type": "code",
   "execution_count": null,
   "metadata": {},
   "outputs": [],
   "source": [
    "from skimage.transform import hough_circle, hough_circle_peaks\n",
    "from skimage.feature import canny"
   ]
  },
  {
   "cell_type": "markdown",
   "metadata": {},
   "source": [
    "For each point in a binarized image Hough transform fits circles with varying radii and circle center coordinates. Unlike blob detection, Hough transform detects circular contours and not filled circles. Therefore the binarized image should have enhanced edges - here we use Canny edge detector first. Here our radius grid is `rgrid`. Hough transform then looks for local optima in the $(c_x,c_y,r)$-parameter space, known as accumulator space. Maximum number of local maxima can be specified using the `num_peaks` argument to `hough_circle_peaks` function:"
   ]
  },
  {
   "cell_type": "code",
   "execution_count": null,
   "metadata": {},
   "outputs": [],
   "source": [
    "# binarize the edge-enhanced image\n",
    "img_bin = threshold_img(sobel(hoechst), method='otsu', binary=True)\n",
    "# radius grid\n",
    "rgrid = np.arange(10,12)\n",
    "hspace = hough_circle(img_bin, rgrid)\n",
    "accums, cx, cy, radii = hough_circle_peaks(hspace, rgrid,num_peaks=1000)"
   ]
  },
  {
   "cell_type": "code",
   "execution_count": null,
   "metadata": {},
   "outputs": [],
   "source": [
    "'''plt.figure(figsize=(8,8))\n",
    "plt.imshow(threshold_img(sobel(hoechst), method='otsu', binary=True))'''"
   ]
  },
  {
   "cell_type": "code",
   "execution_count": null,
   "metadata": {},
   "outputs": [],
   "source": [
    "fig, ax = plt.subplots(figsize=(10,10))\n",
    "for y, x, r in zip(cy[:1000], cx[:1000], radii[:1000]):\n",
    "    c = plt.Circle((x, y), r, color='cyan', linewidth=1.2, fill=False)\n",
    "    ax.add_patch(c)\n",
    "ax.imshow(hoechst, cmap='gray')"
   ]
  },
  {
   "cell_type": "markdown",
   "metadata": {},
   "source": [
    "As you can see some of the detected circles are overlapping, but it is fairly easy to filter circles by area overlap."
   ]
  },
  {
   "cell_type": "markdown",
   "metadata": {},
   "source": [
    "<a id=\"peaks\"></a>\n",
    "## Local Intensity Maxima\n",
    "In some applications it may be useful to find local intensity maxima for example so that we can provide these intensity peaks as initial seeds for some segmentation algorithm. We can use a function `peak_local_max` for this purpose. Here we set `min_distance` between neighboring peaks to 10 pixels"
   ]
  },
  {
   "cell_type": "code",
   "execution_count": null,
   "metadata": {},
   "outputs": [],
   "source": [
    "from skimage.feature import peak_local_max\n",
    "peaks = peak_local_max(img_th,\n",
    "                       min_distance = 10)"
   ]
  },
  {
   "cell_type": "markdown",
   "metadata": {},
   "source": [
    "The variable `peaks` holds in each row $(x,y)$-coordinates of local intensity maxima. We can plot these over the original Hoechst image:"
   ]
  },
  {
   "cell_type": "code",
   "execution_count": null,
   "metadata": {},
   "outputs": [],
   "source": [
    "plt.figure(figsize=(8,8))\n",
    "plt.imshow(hoechst, cmap='gray')\n",
    "plt.scatter(*peaks.T[::-1], s = 5, edgecolor='red', facecolor='none')\n",
    "plt.axis('off')"
   ]
  },
  {
   "cell_type": "code",
   "execution_count": null,
   "metadata": {},
   "outputs": [],
   "source": []
  }
 ],
 "metadata": {
  "kernelspec": {
   "display_name": "Python 2",
   "language": "python",
   "name": "python2"
  },
  "language_info": {
   "codemirror_mode": {
    "name": "ipython",
    "version": 3
   },
   "file_extension": ".py",
   "mimetype": "text/x-python",
   "name": "python",
   "nbconvert_exporter": "python",
   "pygments_lexer": "ipython3",
   "version": "3.8.3"
  }
 },
 "nbformat": 4,
 "nbformat_minor": 2
}
