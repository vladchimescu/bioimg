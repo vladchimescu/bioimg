{
 "cells": [
  {
   "cell_type": "markdown",
   "metadata": {},
   "source": [
    "# Image Filters and Basic Feature Detection\n",
    "*Author: Vladislav Kim*\n",
    "* [Introduction](#intro)\n",
    "* [Edge enhancement](#edge)\n",
    "* [Spot detection](#spot)\n",
    "* [Fourier domain](#fourier)\n",
    "\n",
    "## Introduction\n",
    "<a id=\"intro\"></a> \n",
    "In addition to denoising, thresholding and background subtraction that were covered in the [previous](https://github.com/vladchimescu/bioimg/blob/master/Jupyter/2-image-transformation.ipynb) notebook, there are a number of feature enhancing image transformations that can be useful for microscopy image analysis. In many applications we are interested in finding edges or enhancing object boundaries. Also common in microscopy are spherical shapes, e.g. nuclei, which can be detected using Laplace-of-Gaussian (LoG) operator."
   ]
  },
  {
   "cell_type": "code",
   "execution_count": null,
   "metadata": {},
   "outputs": [],
   "source": [
    "# load third-party Python modules\n",
    "import javabridge\n",
    "import bioformats as bf\n",
    "import skimage\n",
    "import numpy as np\n",
    "import matplotlib.pyplot as plt\n",
    "import seaborn as sn\n",
    "\n",
    "import sys\n",
    "sys.path.append('..')\n",
    "\n",
    "javabridge.start_vm(class_path=bf.JARS)"
   ]
  },
  {
   "cell_type": "markdown",
   "metadata": {},
   "source": [
    "Load an image stack of leukemia cells:"
   ]
  },
  {
   "cell_type": "code",
   "execution_count": null,
   "metadata": {},
   "outputs": [],
   "source": [
    "from base.utils import load_imgstack\n",
    "imgstack = load_imgstack(fname=\"data/BiTE/Tag2-r04c02f1.tiff\")"
   ]
  },
  {
   "cell_type": "code",
   "execution_count": null,
   "metadata": {},
   "outputs": [],
   "source": [
    "mip=np.max(imgstack, axis=0)"
   ]
  },
  {
   "cell_type": "code",
   "execution_count": null,
   "metadata": {},
   "outputs": [],
   "source": [
    "from base.plot import plot_channels\n",
    "channels = ['PE', 'Calcein', 'Hoechst', 'APC']\n",
    "plot_channels([mip[:,:,i]**0.5 for i in range(4)],\n",
    "              nrow=1, ncol=4, titles=channels)"
   ]
  },
  {
   "cell_type": "markdown",
   "metadata": {},
   "source": [
    "## Edge enhancement\n",
    "<a id=\"edge\"></a> \n",
    "We will apply edge enhancement in APC channel with stained surface markers:"
   ]
  },
  {
   "cell_type": "code",
   "execution_count": null,
   "metadata": {},
   "outputs": [],
   "source": [
    "apc = mip[:,:,3]**0.3"
   ]
  },
  {
   "cell_type": "markdown",
   "metadata": {},
   "source": [
    "Edges are boundaries or interfaces of objects, which can be detected using gradient operators."
   ]
  },
  {
   "cell_type": "code",
   "execution_count": null,
   "metadata": {},
   "outputs": [],
   "source": [
    "from skimage.filters import sobel"
   ]
  },
  {
   "cell_type": "code",
   "execution_count": null,
   "metadata": {},
   "outputs": [],
   "source": [
    "plot_channels([apc, sobel(apc)],\n",
    "             nrow=1, ncol=2,\n",
    "             titles=['Original', 'Sobel edge enhancement'],\n",
    "             cmap='gray', scale_x=7, scale_y=7)"
   ]
  },
  {
   "cell_type": "code",
   "execution_count": null,
   "metadata": {},
   "outputs": [],
   "source": [
    "plt.figure(figsize=(6,6))\n",
    "sn.distplot(apc, kde=False, label='Original image')\n",
    "sn.distplot(sobel(apc), kde=False, label='Sobel edge enhancement')\n",
    "plt.xlabel('Intensity')\n",
    "plt.legend()"
   ]
  },
  {
   "cell_type": "code",
   "execution_count": null,
   "metadata": {},
   "outputs": [],
   "source": [
    "# compute x and y components of the gradient\n",
    "g_x, g_y = np.gradient(apc)\n",
    "# magnitude of the gradient\n",
    "g_norm = np.sqrt(g_x**2 + g_y**2)"
   ]
  },
  {
   "cell_type": "code",
   "execution_count": null,
   "metadata": {},
   "outputs": [],
   "source": [
    "plt.figure(figsize=(8,8))\n",
    "plt.imshow(g_norm, cmap='gray')\n",
    "plt.title('Gradient image')\n",
    "plt.axis('off')"
   ]
  },
  {
   "cell_type": "markdown",
   "metadata": {},
   "source": [
    "## Spot detection\n",
    "<a id=\"spot\"></a> "
   ]
  },
  {
   "cell_type": "code",
   "execution_count": null,
   "metadata": {},
   "outputs": [],
   "source": []
  },
  {
   "cell_type": "markdown",
   "metadata": {},
   "source": [
    "## Fourier domain\n",
    "<a id=\"fourier\"></a> "
   ]
  },
  {
   "cell_type": "code",
   "execution_count": null,
   "metadata": {},
   "outputs": [],
   "source": []
  }
 ],
 "metadata": {
  "kernelspec": {
   "display_name": "Python 2",
   "language": "python",
   "name": "python2"
  },
  "language_info": {
   "codemirror_mode": {
    "name": "ipython",
    "version": 2
   },
   "file_extension": ".py",
   "mimetype": "text/x-python",
   "name": "python",
   "nbconvert_exporter": "python",
   "pygments_lexer": "ipython2",
   "version": "2.7.14"
  }
 },
 "nbformat": 4,
 "nbformat_minor": 2
}
