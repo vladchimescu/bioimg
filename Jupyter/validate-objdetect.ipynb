{
 "cells": [
  {
   "cell_type": "markdown",
   "metadata": {},
   "source": [
    "## Validate Object Detection on the Test Set"
   ]
  },
  {
   "cell_type": "code",
   "execution_count": null,
   "metadata": {},
   "outputs": [],
   "source": [
    "# load third-party Python modules\n",
    "import javabridge\n",
    "import bioformats as bf\n",
    "import skimage\n",
    "import numpy as np\n",
    "import matplotlib.pyplot as plt\n",
    "import seaborn as sn\n",
    "import pandas as pd\n",
    "import os\n",
    "import sys\n",
    "import h5py\n",
    "sys.path.append('..')\n",
    "\n",
    "javabridge.start_vm(class_path=bf.JARS)"
   ]
  },
  {
   "cell_type": "code",
   "execution_count": null,
   "metadata": {},
   "outputs": [],
   "source": [
    "path = '/Users/vlad/Documents/embl/gitlab/microscopy/data/detect/test/'"
   ]
  },
  {
   "cell_type": "code",
   "execution_count": null,
   "metadata": {},
   "outputs": [],
   "source": [
    "imgs = [f.replace('.csv', '') for f in os.listdir(path) if '.csv' in f]"
   ]
  },
  {
   "cell_type": "code",
   "execution_count": null,
   "metadata": {},
   "outputs": [],
   "source": [
    "len(imgs)"
   ]
  },
  {
   "cell_type": "code",
   "execution_count": null,
   "metadata": {},
   "outputs": [],
   "source": [
    "test_gtruth = pd.read_csv('data/AML_trainset/test_labels.csv')"
   ]
  },
  {
   "cell_type": "code",
   "execution_count": null,
   "metadata": {},
   "outputs": [],
   "source": [
    "from collections import namedtuple\n",
    "Box = namedtuple('Box', 'xmin xmax ymin ymax')\n",
    "\n",
    "def area_overlap(a, b):  # returns None if rectangles don't intersect\n",
    "    dx = min(a.xmax, b.xmax) - max(a.xmin, b.xmin)\n",
    "    dy = min(a.ymax, b.ymax) - max(a.ymin, b.ymin)\n",
    "    if (dx>=0) and (dy>=0):\n",
    "        return dx*dy"
   ]
  },
  {
   "cell_type": "code",
   "execution_count": null,
   "metadata": {},
   "outputs": [],
   "source": [
    "i=0\n",
    "df = pd.read_csv(os.path.join(path, imgs[i] + \".csv\"))"
   ]
  },
  {
   "cell_type": "code",
   "execution_count": null,
   "metadata": {},
   "outputs": [],
   "source": [
    "from segment.tools import read_bbox\n",
    "bbox_gt = read_bbox(df=test_gtruth[test_gtruth.filename ==''.join([imgs[i], '.png'])], \n",
    "             columns=['ymin','xmin','ymax','xmax'],\n",
    "             rmax=720,\n",
    "             cmax=720, pad=0)"
   ]
  },
  {
   "cell_type": "code",
   "execution_count": null,
   "metadata": {},
   "outputs": [],
   "source": [
    "bbox = read_bbox(df=df, \n",
    "             columns=['ymin','xmin','ymax','xmax'],\n",
    "             rmax=720,\n",
    "             cmax=720, pad=0)"
   ]
  },
  {
   "cell_type": "code",
   "execution_count": null,
   "metadata": {},
   "outputs": [],
   "source": [
    "y_gt = test_gtruth[test_gtruth.filename ==''.join([imgs[i], '.png'])]['class'].values\n",
    "y_gt[y_gt=='apoptotic AML'] = 1\n",
    "y_gt[y_gt=='viable AML'] = 2"
   ]
  },
  {
   "cell_type": "code",
   "execution_count": null,
   "metadata": {},
   "outputs": [],
   "source": [
    "bbox_gt[0]"
   ]
  },
  {
   "cell_type": "code",
   "execution_count": null,
   "metadata": {},
   "outputs": [],
   "source": [
    "df_list = []\n",
    "for bt,y in zip(bbox_gt, y_gt):\n",
    "    for b in bbox:\n",
    "        A_common = area_overlap(Box(*bt), Box(*b))\n",
    "        if A_common is not None:\n",
    "            if A_common > 200:\n",
    "                label_df = pd.DataFrame(data=b[None,...],\n",
    "                                        columns=['xmin', 'xmax', 'ymin', 'ymax'])\n",
    "                label_df['y'] = y\n",
    "                label_df['Acom'] = A_common\n",
    "                df_list.append(label_df)\n",
    "if(len(df_list)):\n",
    "    df_unique = (pd.concat(df_list).\n",
    "                 groupby(by=['ymin', 'xmin', 'ymax', 'xmax']).\n",
    "                 apply(lambda x: x.loc[x.Acom == x.Acom.max(),:]).\n",
    "                 reset_index(drop=True))\n",
    "    img_df = pd.merge(left=df, right=df_unique,\n",
    "         on=['ymin', 'xmin', 'ymax', 'xmax'], how='left')\n",
    "    img_df = img_df[['ymin', 'xmin', 'ymax', 'xmax', 'y', 'class', 'prob']]\n",
    "    #img_df = img_df.fillna(0)"
   ]
  },
  {
   "cell_type": "code",
   "execution_count": null,
   "metadata": {},
   "outputs": [],
   "source": [
    "pred_df = []\n",
    "for i in range(len(imgs)):\n",
    "    df = pd.read_csv(os.path.join(path, imgs[i] + \".csv\"))\n",
    "    bbox_gt = read_bbox(df=test_gtruth[test_gtruth.filename ==''.join([imgs[i], '.png'])], \n",
    "             columns=['ymin','xmin','ymax','xmax'],\n",
    "             rmax=720,\n",
    "             cmax=720, pad=0)\n",
    "    bbox = read_bbox(df=df, \n",
    "             columns=['ymin','xmin','ymax','xmax'],\n",
    "             rmax=720,\n",
    "             cmax=720, pad=0)\n",
    "    y_gt = test_gtruth[test_gtruth.filename ==''.join([imgs[i], '.png'])]['class'].values\n",
    "    y_gt[y_gt=='apoptotic AML'] = 1\n",
    "    y_gt[y_gt=='viable AML'] = 2\n",
    "    df_list = []\n",
    "    for bt,y in zip(bbox_gt, y_gt):\n",
    "        for b in bbox:\n",
    "            A_common = area_overlap(Box(*bt), Box(*b))\n",
    "            if A_common is not None:\n",
    "                if A_common > 200:\n",
    "                    label_df = pd.DataFrame(data=b[None,...],\n",
    "                                            columns=['xmin', 'xmax', 'ymin', 'ymax'])\n",
    "                    label_df['y'] = y\n",
    "                    label_df['Acom'] = A_common\n",
    "                    df_list.append(label_df)\n",
    "    if(len(df_list)):\n",
    "        df_unique = (pd.concat(df_list).\n",
    "                     groupby(by=['ymin', 'xmin', 'ymax', 'xmax']).\n",
    "                     apply(lambda x: x.loc[x.Acom == x.Acom.max(),:]).\n",
    "                     reset_index(drop=True))\n",
    "        img_df = pd.merge(left=df, right=df_unique,\n",
    "             on=['ymin', 'xmin', 'ymax', 'xmax'], how='left')\n",
    "        img_df = img_df[['ymin', 'xmin', 'ymax', 'xmax', 'y', 'class', 'prob']]\n",
    "        pred_df.append(img_df)"
   ]
  },
  {
   "cell_type": "code",
   "execution_count": null,
   "metadata": {},
   "outputs": [],
   "source": [
    "pred_df = pd.concat(pred_df)"
   ]
  },
  {
   "cell_type": "code",
   "execution_count": null,
   "metadata": {},
   "outputs": [],
   "source": [
    "pred_df['p_apoptotic'] = pred_df.apply(lambda x: x['prob'] if x['class'] == 1 else 1.0 - x['prob'], axis=1)"
   ]
  },
  {
   "cell_type": "code",
   "execution_count": null,
   "metadata": {},
   "outputs": [],
   "source": [
    "pred_df['p_viable'] = pred_df.apply(lambda x: x['prob'] if x['class'] == 2 else 1.0 - x['prob'], axis=1)"
   ]
  },
  {
   "cell_type": "code",
   "execution_count": null,
   "metadata": {},
   "outputs": [],
   "source": [
    "pred_df['y'] = pred_df['y'].fillna(value=0)"
   ]
  },
  {
   "cell_type": "code",
   "execution_count": null,
   "metadata": {},
   "outputs": [],
   "source": [
    "pred_df.head(20)"
   ]
  },
  {
   "cell_type": "code",
   "execution_count": null,
   "metadata": {},
   "outputs": [],
   "source": [
    "from sklearn.metrics import confusion_matrix"
   ]
  },
  {
   "cell_type": "code",
   "execution_count": null,
   "metadata": {},
   "outputs": [],
   "source": [
    "confusion_matrix(y_pred=pred_df['class'], y_true=pred_df['y'])"
   ]
  },
  {
   "cell_type": "code",
   "execution_count": null,
   "metadata": {},
   "outputs": [],
   "source": [
    "from sklearn.metrics import roc_curve, auc\n",
    "from sklearn.metrics import precision_recall_curve\n",
    "from sklearn.metrics import average_precision_score\n",
    "from sklearn.metrics import precision_score\n",
    "from sklearn.preprocessing import label_binarize"
   ]
  },
  {
   "cell_type": "code",
   "execution_count": null,
   "metadata": {},
   "outputs": [],
   "source": [
    "y_test = label_binarize(pred_df['y'].values, [0,1,2])\n",
    "probas_ = pred_df[['p_apoptotic', 'p_viable']].values"
   ]
  },
  {
   "cell_type": "code",
   "execution_count": null,
   "metadata": {},
   "outputs": [],
   "source": [
    "fpr = dict()\n",
    "tpr = dict()\n",
    "roc_auc = dict()\n",
    "precision = dict()\n",
    "recall = dict()\n",
    "avprec = dict()\n",
    "for i in range(1,3):\n",
    "    fpr[i], tpr[i], _ = roc_curve(y_test[:, i], probas_[:, i-1])\n",
    "    roc_auc[i] = auc(fpr[i], tpr[i])\n",
    "    precision[i], recall[i], _ = precision_recall_curve(y_test[:, i],\n",
    "                                                        probas_[:, i-1])\n",
    "    avprec[i] = average_precision_score(y_test[:, i], probas_[:, i-1])"
   ]
  },
  {
   "cell_type": "code",
   "execution_count": null,
   "metadata": {},
   "outputs": [],
   "source": [
    "import matplotlib\n",
    "font = {'family' : 'normal',\n",
    "        'size'   : 14}\n",
    "\n",
    "matplotlib.rc('font', **font)"
   ]
  },
  {
   "cell_type": "code",
   "execution_count": null,
   "metadata": {},
   "outputs": [],
   "source": [
    "from itertools import cycle\n",
    "colors = cycle(['#27496d','#63b7af'])\n",
    "class_names = ['','Apoptotic AML', 'Viable AML']\n",
    "\n",
    "plt.figure(figsize=(7, 7))\n",
    "f_scores = np.linspace(0.7, 0.96, num=5)\n",
    "\n",
    "for f_score in f_scores:\n",
    "    x = np.linspace(0.01, 1)\n",
    "    y_ = f_score * x / (2 * x - f_score)\n",
    "    plt.plot(x[y_ >= 0], y_[y_ >= 0], color='gray', alpha=0.2)\n",
    "    plt.annotate('F1={0:0.1f}'.format(f_score), xy=(0.9, y_[45] + 0.02))\n",
    "for i, color in zip(range(1,3), colors):\n",
    "    plt.plot(recall[i], precision[i], color=color, lw=4,\n",
    "             label='{0} (AP = {1:0.2f})'\n",
    "             ''.format(class_names[i], avprec[i]))\n",
    "\n",
    "plt.xlim([0.0, 1.0])\n",
    "plt.ylim([0.0, 1.05])\n",
    "plt.xlabel('Recall')\n",
    "plt.ylabel('Precision')\n",
    "plt.title('Precision-recall object detection')\n",
    "plt.legend(loc=\"lower left\")\n",
    "#plt.savefig('PR-objdetect.pdf')"
   ]
  },
  {
   "cell_type": "code",
   "execution_count": null,
   "metadata": {},
   "outputs": [],
   "source": [
    "plt.figure(figsize=(7, 7))\n",
    "for i, color in zip(range(1,3), colors):\n",
    "    plt.plot(fpr[i], tpr[i], color=color, lw=4,\n",
    "             label='{0} (AUCROC = {1:0.2f})'\n",
    "             ''.format(class_names[i], roc_auc[i]))\n",
    "\n",
    "plt.plot([0, 1], [0, 1], 'k--', lw=2)\n",
    "plt.xlim([0.0, 1.0])\n",
    "plt.ylim([0.0, 1.05])\n",
    "plt.xlabel('False Positive Rate')\n",
    "plt.ylabel('True Positive Rate')\n",
    "plt.title('ROC object detection')\n",
    "plt.legend(loc=\"lower right\")\n",
    "#plt.savefig('ROC-objdetect.pdf')"
   ]
  },
  {
   "cell_type": "code",
   "execution_count": null,
   "metadata": {},
   "outputs": [],
   "source": []
  }
 ],
 "metadata": {
  "kernelspec": {
   "display_name": "Python 3",
   "language": "python",
   "name": "python3"
  },
  "language_info": {
   "codemirror_mode": {
    "name": "ipython",
    "version": 3
   },
   "file_extension": ".py",
   "mimetype": "text/x-python",
   "name": "python",
   "nbconvert_exporter": "python",
   "pygments_lexer": "ipython3",
   "version": "3.8.3"
  }
 },
 "nbformat": 4,
 "nbformat_minor": 2
}
