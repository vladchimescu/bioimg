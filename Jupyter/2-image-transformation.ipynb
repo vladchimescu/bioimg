{
 "cells": [
  {
   "cell_type": "markdown",
   "metadata": {},
   "source": [
    "# Image Transformations\n",
    "*Author: Vladislav Kim*\n",
    "* [Introduction](#intro)\n",
    "* [Denoising](#noise)\n",
    "* [Thresholding: separate foreground from background](#threshold)\n",
    "* [Non-uniform illumination correction](#bgcorrect)\n",
    "* [Morphological operations](#morphology)\n",
    "\n",
    "## Introduction\n",
    "<a id=\"intro\"></a> \n",
    "Once we can handle images of any OME-supported format in Python, we can apply a number of transformations to correct brightness, contrast, noise levels, etc\n",
    "\n",
    "\n",
    "After the images have been loaded and inspected, they can be transformed. To name a few image transformations:\n",
    "+ adjust brightness and contrast\n",
    "+ rescale image\n",
    "+ remove background\n",
    "+ denoise / introduce Gaussian blur\n",
    "+ separate foreground from background (threshold)\n",
    "\n",
    "Here we will talk about the most basic image transformations such as contrast adjustment and rescaling (see 'Advanced Image Processing' notebook for the detailed treatment of image transformations).\n",
    "\n",
    "\n",
    "Perhaps the most trivial image transformation is image inversion (obtaining the \"negative\" of the image)"
   ]
  },
  {
   "cell_type": "code",
   "execution_count": null,
   "metadata": {},
   "outputs": [],
   "source": []
  },
  {
   "cell_type": "markdown",
   "metadata": {},
   "source": [
    "To adjust brightness of an image, one may have to apply gamma correction to the image, which simply raises the `\n",
    "np.array` to the power of `gamma`"
   ]
  },
  {
   "cell_type": "code",
   "execution_count": null,
   "metadata": {},
   "outputs": [],
   "source": []
  },
  {
   "cell_type": "markdown",
   "metadata": {},
   "source": [
    "A useful feature is image rescaling, which can be achieved by `skimage.transform.resize`:"
   ]
  },
  {
   "cell_type": "code",
   "execution_count": null,
   "metadata": {},
   "outputs": [],
   "source": []
  },
  {
   "cell_type": "markdown",
   "metadata": {},
   "source": [
    "The best is always to compare the original and transformed image side-by-side:"
   ]
  },
  {
   "cell_type": "markdown",
   "metadata": {},
   "source": [
    "## Denoising\n",
    "<a id=\"noise\"></a> \n",
    "Smoothing for speckle noise. Talk about Fourier-space analysis for complex noise structure and non-local means denoising."
   ]
  },
  {
   "cell_type": "code",
   "execution_count": null,
   "metadata": {},
   "outputs": [],
   "source": []
  },
  {
   "cell_type": "markdown",
   "metadata": {},
   "source": [
    "## Thresholding: separate foreground from background\n",
    "<a id=\"threshold\"></a> "
   ]
  },
  {
   "cell_type": "code",
   "execution_count": null,
   "metadata": {},
   "outputs": [],
   "source": []
  },
  {
   "cell_type": "markdown",
   "metadata": {},
   "source": [
    "## Illumination correction\n",
    "<a id=\"bgcorrect\"></a>\n",
    "Non-uniform background removal"
   ]
  },
  {
   "cell_type": "code",
   "execution_count": null,
   "metadata": {},
   "outputs": [],
   "source": []
  },
  {
   "cell_type": "markdown",
   "metadata": {},
   "source": [
    "## Morphological operations\n",
    "<a id=\"morphology\"></a> "
   ]
  },
  {
   "cell_type": "code",
   "execution_count": null,
   "metadata": {},
   "outputs": [],
   "source": []
  }
 ],
 "metadata": {
  "kernelspec": {
   "display_name": "Python 2",
   "language": "python",
   "name": "python2"
  },
  "language_info": {
   "codemirror_mode": {
    "name": "ipython",
    "version": 2
   },
   "file_extension": ".py",
   "mimetype": "text/x-python",
   "name": "python",
   "nbconvert_exporter": "python",
   "pygments_lexer": "ipython2",
   "version": "2.7.14"
  }
 },
 "nbformat": 4,
 "nbformat_minor": 2
}
