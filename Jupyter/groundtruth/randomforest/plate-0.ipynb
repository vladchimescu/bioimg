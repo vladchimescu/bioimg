{
 "cells": [
  {
   "cell_type": "markdown",
   "metadata": {},
   "source": [
    "## Label image data in plate 180528_Plate3\n",
    "*Vladislav Kim*\n",
    "\n",
    "\n",
    "* [Introduction](#1)\n",
    "* [Initial training set](#2)\n",
    "\n",
    "<a id=\"1\"></a> \n",
    "## Introduction\n",
    "The idea of this notebook series is to train a pseudo-online random forest classifier for AML vs stroma cell classification. From selected plates we (for now) sample 6 DMSO wells with the highest Calcein cell count, generate predictions and correct misclassified instances and check in live (\"online\") mode how the predictions improve as we add more data. Note that the classifier is not truly an online classifier as we don't update the model as we go, but completely retrain the RF classfier in multicore mode.\n",
    "\n",
    "In general we can implement targeted online learning strategy: we can select a number of wells that are of interest to us (target wells), e.g. DMSO control wells or wells with certain high-priority drugs, the accuracy of which we want to improve, in the first place. We sample from these target wells from selected plates and evaluate the classification accuracy as we go (pseudo online learning).\n",
    "\n",
    "\n",
    "<a id=\"2\"></a>\n",
    "## Initial Training Set: 180528_Plate3\n",
    "At first we will re-train the classifier on the plate `180528_Plate3`, as it manifests a very striking contrast between mono- and co-cultures. We want to rule out the fact that this could be a segmentation (classification in this case) artefact "
   ]
  },
  {
   "cell_type": "code",
   "execution_count": null,
   "metadata": {},
   "outputs": [],
   "source": [
    "# load third-party Python modules\n",
    "import javabridge\n",
    "import bioformats as bf\n",
    "import skimage\n",
    "import numpy as np\n",
    "import matplotlib.pyplot as plt\n",
    "import seaborn as sn\n",
    "import pandas as pd\n",
    "import os\n",
    "import sys\n",
    "sys.path.append('../../..')\n",
    "\n",
    "javabridge.start_vm(class_path=bf.JARS)"
   ]
  },
  {
   "cell_type": "code",
   "execution_count": null,
   "metadata": {},
   "outputs": [],
   "source": [
    "from base.utils import load_imgstack\n",
    "imgstack = load_imgstack(fname=\"../../data/AML_trainset/180528_Plate3/r02c14.tiff\")\n",
    "\n",
    "# remove a 'dummy' z-axis\n",
    "img = np.squeeze(imgstack)\n",
    "\n",
    "# nuclei\n",
    "hoechst = img[:,:,0]**0.3"
   ]
  },
  {
   "cell_type": "code",
   "execution_count": null,
   "metadata": {},
   "outputs": [],
   "source": [
    "df = pd.read_csv('../../data/AML_trainset/180528_Plate3/r02c14.csv')"
   ]
  },
  {
   "cell_type": "code",
   "execution_count": null,
   "metadata": {},
   "outputs": [],
   "source": [
    "from segment.tools import read_bbox\n",
    "rmax, cmax = hoechst.shape\n",
    "\n",
    "bbox = read_bbox(df=df, rmax=rmax, cmax=cmax)"
   ]
  },
  {
   "cell_type": "code",
   "execution_count": null,
   "metadata": {},
   "outputs": [],
   "source": [
    "from base.plot import show_bbox\n",
    "#show_bbox(hoechst, bbox)"
   ]
  },
  {
   "cell_type": "markdown",
   "metadata": {},
   "source": [
    "**Plotly visualization works!**"
   ]
  },
  {
   "cell_type": "code",
   "execution_count": null,
   "metadata": {},
   "outputs": [],
   "source": [
    "from plotly.offline import download_plotlyjs, init_notebook_mode, plot, iplot\n",
    "import plotly.graph_objs as go\n",
    "init_notebook_mode(connected=True)"
   ]
  },
  {
   "cell_type": "code",
   "execution_count": null,
   "metadata": {},
   "outputs": [],
   "source": [
    "from extra.viz import plotly_viz"
   ]
  },
  {
   "cell_type": "code",
   "execution_count": null,
   "metadata": {},
   "outputs": [],
   "source": [
    "from skimage.exposure import equalize_adapthist\n",
    "gamma = 0.3\n",
    "img_g = img**gamma\n",
    "mip_rgb = equalize_adapthist(np.dstack((img_g[:,:,1],\n",
    "                                        img_g[:,:,2],\n",
    "                                        img_g[:,:,0])))"
   ]
  },
  {
   "cell_type": "code",
   "execution_count": null,
   "metadata": {},
   "outputs": [],
   "source": [
    "layout, cells = plotly_viz(mip_rgb, bb=bbox)"
   ]
  },
  {
   "cell_type": "code",
   "execution_count": null,
   "metadata": {},
   "outputs": [],
   "source": [
    "from extra.viz import plotly_predictions\n",
    "ypred = np.zeros(len(bbox), dtype=np.int)\n",
    "labels = ['cells']\n",
    "layout, cells = plotly_predictions(img=mip_rgb, bb=bbox,\n",
    "                                  ypred=ypred, labels=labels)"
   ]
  },
  {
   "cell_type": "code",
   "execution_count": null,
   "metadata": {},
   "outputs": [],
   "source": [
    "#iplot(dict(data=cells, layout=layout))"
   ]
  },
  {
   "cell_type": "code",
   "execution_count": null,
   "metadata": {},
   "outputs": [],
   "source": [
    "def get_train_instance(path, fname, pad=0):\n",
    "    imgstack = load_imgstack(fname=os.path.join(path, fname + \".tiff\"),\n",
    "                            verbose=False)\n",
    "    img = np.squeeze(imgstack)\n",
    "    df = pd.read_csv(os.path.join(path, fname + \".csv\"))\n",
    "    rmax, cmax, _ = img.shape\n",
    "    bbox = read_bbox(df=df, rmax=rmax,\n",
    "                     cmax=cmax, pad=pad)\n",
    "    return img, bbox"
   ]
  },
  {
   "cell_type": "code",
   "execution_count": null,
   "metadata": {},
   "outputs": [],
   "source": [
    "img, bbox = get_train_instance(path='../../data/AML_trainset/180528_Plate3',\n",
    "                              fname='r02c14', pad=20)"
   ]
  },
  {
   "cell_type": "markdown",
   "metadata": {},
   "source": [
    "**Here need to fix how we import `ImgX`**"
   ]
  },
  {
   "cell_type": "code",
   "execution_count": null,
   "metadata": {},
   "outputs": [],
   "source": [
    "sys.path.append('../../../../')\n",
    "from bioimg.classify import ImgX"
   ]
  },
  {
   "cell_type": "code",
   "execution_count": null,
   "metadata": {},
   "outputs": [],
   "source": [
    "imgx_test = ImgX(img=img**0.4, bbox=bbox, n_chan=3)\n",
    "imgx_test = imgx_test.compute_props()"
   ]
  },
  {
   "cell_type": "code",
   "execution_count": null,
   "metadata": {},
   "outputs": [],
   "source": [
    "# imgx_test.data[0].iloc[:10,:12]"
   ]
  },
  {
   "cell_type": "markdown",
   "metadata": {},
   "source": [
    "**`IncrementalClassifier` is a class that has `ImgX` instance and can accumulate training data:**"
   ]
  },
  {
   "cell_type": "code",
   "execution_count": null,
   "metadata": {},
   "outputs": [],
   "source": [
    "from sklearn.preprocessing import label_binarize\n",
    "from sklearn.multiclass import OneVsRestClassifier\n",
    "from sklearn.ensemble import RandomForestClassifier\n",
    "\n",
    "from sklearn.metrics import classification_report\n",
    "from sklearn.metrics import confusion_matrix\n",
    "import re\n",
    "\n",
    "class IncrementalClassifier:\n",
    "    def __init__(self):\n",
    "        # initialize with 'None' something to be loaded later\n",
    "        self.imgx = None\n",
    "        \n",
    "        self.newlabels = None\n",
    "        # training data\n",
    "        self.Xtrain = None\n",
    "        self.ytrain = None\n",
    "        # inialize classifier as 'None'\n",
    "        self.clf = None\n",
    "        self.classes = None\n",
    "\n",
    "    def __setattr__(self, name, value):\n",
    "        self.__dict__[name] = value\n",
    "        # if a new ImgX object is passed,\n",
    "        # compute its features\n",
    "        if name == 'imgx':\n",
    "            self._compute_imgx_data()\n",
    "            self.newlabels = None\n",
    "\n",
    "    # function for setting individual class parameters\n",
    "    def set_param(self, **kwargs):\n",
    "        for k in kwargs.keys():\n",
    "            self.__setattr__(k, kwargs[k])\n",
    "         \n",
    "    # internal function checks if the embedded\n",
    "    # imgx object has the features computed\n",
    "    def _compute_imgx_data(self):\n",
    "        if self.imgx is not None and len(self.imgx.data) == 0:\n",
    "            self.imgx.compute_props()\n",
    "            \n",
    "    # plot predictions overlaid with the original image\n",
    "    # plot is a 'void' function (returns 'None')\n",
    "    def plot_predictions(self):\n",
    "        if self.imgx.y is not None:\n",
    "            layout, feats = plotly_predictions(img=self.imgx.img,\n",
    "                                                         bb=self.imgx.bbox,\n",
    "                                                         ypred=self.imgx.y,\n",
    "                                                         labels=self.classes\n",
    "                                                        )\n",
    "        else:\n",
    "            layout, feats = plotly_viz(img=self.imgx.img,\n",
    "                                                    bb=self.imgx.bbox)\n",
    "        iplot(dict(data=feats, layout=layout))\n",
    "        \n",
    "    def add_instances(self, newlabels):\n",
    "        newlabels = np.unique(newlabels, axis=0)\n",
    "        if self.newlabels is None:\n",
    "            self.newlabels = newlabels\n",
    "        else:\n",
    "            a1_rows = newlabels.view(\n",
    "                [('', newlabels.dtype)] * newlabels.shape[1])\n",
    "            a2_rows = self.newlabels.view(\n",
    "                [('', self.newlabels.dtype)] * self.newlabels.shape[1])\n",
    "\n",
    "            newlabels = (np.setdiff1d(a1_rows, a2_rows).\n",
    "                         view(newlabels.dtype).\n",
    "                         reshape(-1, newlabels.shape[1]))\n",
    "            self.newlabels = np.append(self.newlabels, newlabels, axis=0)\n",
    "        # if 'newlabels' array is not empty\n",
    "        if len(newlabels) > 0:\n",
    "            self._push_traindata(newlabels=newlabels)\n",
    "        return self\n",
    "    \n",
    "    def _push_traindata(self, newlabels):\n",
    "        ids = newlabels[:,0]\n",
    "        if self.Xtrain is None:\n",
    "            self.Xtrain = self.imgx.data.iloc[ids,:]\n",
    "            self.ytrain = label_binarize(newlabels[:,1],\n",
    "                                        classes=range(len(self.classes)))\n",
    "        else:\n",
    "            self.Xtrain = pd.concat([self.Xtrain, self.imgx.data.iloc[ids,:]], axis=0)\n",
    "            self.ytrain = np.append(self.ytrain, label_binarize(newlabels[:,1],\n",
    "                                     classes=range(len(self.classes))), axis=0)\n",
    "                        \n",
    "        \n",
    "    def set_classifier(self, clf=None):\n",
    "            self.clf = clf\n",
    "            # if 'None' then some reasonable default\n",
    "            if clf is None:\n",
    "                self.clf = OneVsRestClassifier(RandomForestClassifier(bootstrap=True,\n",
    "                                                  class_weight=\"balanced\",\n",
    "                                                  n_estimators=500,\n",
    "                                                  random_state=123,\n",
    "                                                  n_jobs=-1))\n",
    "            return self\n",
    "    \n",
    "    def train_classifier(self):\n",
    "        self.clf.fit(self.Xtrain, self.ytrain)\n",
    "        return self\n",
    "    \n",
    "    # print the confusion matrix on the existing training set\n",
    "    def train_error(self):\n",
    "        ypred = self.clf.predict(self.Xtrain)\n",
    "        print(classification_report(self.ytrain.argmax(axis=1),\n",
    "                                    ypred.argmax(axis=1),\n",
    "                                    target_names=self.classes))\n",
    "        #print(confusion_matrix(self.ytrain.argmax(axis=1), ypred.argmax(axis=1),\n",
    "        #                       labels=range(len(self.classes))))\n",
    "        \n",
    "    # generate predictions and pass them to self.imgx.y\n",
    "    def generate_predictions(self, prob=False):\n",
    "        Xtest = self.imgx.data\n",
    "        ypred = self.clf.predict(Xtest)\n",
    "        # set labels to these\n",
    "        self.imgx.y =  ypred.argmax(axis=1)\n",
    "    \n",
    "    def h5_write(self, fname):\n",
    "        hf = h5py.File(fname, 'w')\n",
    "        hf.create_dataset('Xtrain', data=self.Xtrain)\n",
    "        hf.create_dataset('ytrain', data=self.ytrain.argmax(axis=1))\n",
    "        hf.close()"
   ]
  },
  {
   "cell_type": "code",
   "execution_count": null,
   "metadata": {},
   "outputs": [],
   "source": [
    "gamma = 0.4\n",
    "# adjust brightness by gamma correction\n",
    "img_g = img**gamma\n",
    "# sort color channels in'RGB' order\n",
    "img_rgb = np.dstack((img_g[:,:,1],\n",
    "                     img_g[:,:,2],\n",
    "                     img_g[:,:,0]))\n",
    "# initialize 'ImgX' class\n",
    "imgx = ImgX(img=img_rgb, bbox=bbox, n_chan=3)"
   ]
  },
  {
   "cell_type": "code",
   "execution_count": null,
   "metadata": {},
   "outputs": [],
   "source": [
    "clf_incr = IncrementalClassifier()"
   ]
  },
  {
   "cell_type": "code",
   "execution_count": null,
   "metadata": {},
   "outputs": [],
   "source": [
    "clf_incr.imgx = imgx\n",
    "clf_incr.classes = ['apoptotic', 'viable', 'other']"
   ]
  },
  {
   "cell_type": "code",
   "execution_count": null,
   "metadata": {},
   "outputs": [],
   "source": [
    "#clf_incr.plot_predictions()"
   ]
  },
  {
   "cell_type": "code",
   "execution_count": null,
   "metadata": {},
   "outputs": [],
   "source": [
    "def make_labels(arr, label=1):\n",
    "    return np.vstack((arr, label * np.ones(arr.shape, dtype=np.int))).T"
   ]
  },
  {
   "cell_type": "code",
   "execution_count": null,
   "metadata": {},
   "outputs": [],
   "source": [
    "viable = np.array([43, 41, 6, 29, 16, 48, 61, 69, \n",
    "                   59, 66, 73, 77, 80, 89, 94, 98,\n",
    "                   112, 120, 119, 122, 100, 103, 57, 67, 55, 62])\n",
    "\n",
    "apoptotic = np.array([123, 76, 82, 53, 47, 37, 30, 18])\n",
    "\n",
    "other = np.array([12,22, 44, 34,1,51,38,19,10,17,0])"
   ]
  },
  {
   "cell_type": "code",
   "execution_count": null,
   "metadata": {},
   "outputs": [],
   "source": [
    "newlabels = np.concatenate((make_labels(viable, label=1),\n",
    "              make_labels(apoptotic, label=0),\n",
    "              make_labels(other, label=2)),\n",
    "          axis=0)"
   ]
  },
  {
   "cell_type": "code",
   "execution_count": null,
   "metadata": {},
   "outputs": [],
   "source": [
    "clf_incr = clf_incr.add_instances(newlabels=newlabels)"
   ]
  },
  {
   "cell_type": "code",
   "execution_count": null,
   "metadata": {},
   "outputs": [],
   "source": [
    "clf_incr.Xtrain.shape"
   ]
  },
  {
   "cell_type": "code",
   "execution_count": null,
   "metadata": {},
   "outputs": [],
   "source": [
    "clf_incr.set_classifier().train_classifier()"
   ]
  },
  {
   "cell_type": "code",
   "execution_count": null,
   "metadata": {},
   "outputs": [],
   "source": [
    "#clf_incr.train_error()"
   ]
  },
  {
   "cell_type": "code",
   "execution_count": null,
   "metadata": {},
   "outputs": [],
   "source": [
    "clf_incr.generate_predictions()"
   ]
  },
  {
   "cell_type": "code",
   "execution_count": null,
   "metadata": {},
   "outputs": [],
   "source": [
    "#clf_incr.plot_predictions()"
   ]
  },
  {
   "cell_type": "markdown",
   "metadata": {},
   "source": [
    "**Try loading a new image and replacing `imgx` in `IncrementalClassifier`**"
   ]
  },
  {
   "cell_type": "code",
   "execution_count": null,
   "metadata": {},
   "outputs": [],
   "source": [
    "img, bbox = get_train_instance(path='../../data/AML_trainset/180528_Plate3',\n",
    "                              fname='r05c12', pad=20)\n",
    "\n",
    "img_g = img**gamma\n",
    "# sort color channels in'RGB' order\n",
    "img_rgb = np.dstack((img_g[:,:,1],\n",
    "                     img_g[:,:,2],\n",
    "                     img_g[:,:,0]))\n",
    "# initialize 'ImgX' class\n",
    "imgx = ImgX(img=img_rgb, bbox=bbox, n_chan=3)"
   ]
  },
  {
   "cell_type": "markdown",
   "metadata": {},
   "source": [
    "Update the `imgx` in `clf_incr`:"
   ]
  },
  {
   "cell_type": "code",
   "execution_count": null,
   "metadata": {},
   "outputs": [],
   "source": [
    "clf_incr.imgx = imgx"
   ]
  },
  {
   "cell_type": "code",
   "execution_count": null,
   "metadata": {},
   "outputs": [],
   "source": [
    "clf_incr.generate_predictions()"
   ]
  },
  {
   "cell_type": "code",
   "execution_count": null,
   "metadata": {},
   "outputs": [],
   "source": [
    "viable = np.array([21])\n",
    "other = np.array([22,32,14,52,98,76])"
   ]
  },
  {
   "cell_type": "code",
   "execution_count": null,
   "metadata": {},
   "outputs": [],
   "source": [
    "#clf_incr.plot_predictions()"
   ]
  },
  {
   "cell_type": "code",
   "execution_count": null,
   "metadata": {},
   "outputs": [],
   "source": [
    "newlabels = np.concatenate((make_labels(viable, label=1),\n",
    "              make_labels(other, label=2)),\n",
    "          axis=0)"
   ]
  },
  {
   "cell_type": "code",
   "execution_count": null,
   "metadata": {},
   "outputs": [],
   "source": [
    "clf_incr = clf_incr.add_instances(newlabels=newlabels)"
   ]
  },
  {
   "cell_type": "code",
   "execution_count": null,
   "metadata": {},
   "outputs": [],
   "source": [
    "clf_incr.train_classifier()"
   ]
  },
  {
   "cell_type": "code",
   "execution_count": null,
   "metadata": {},
   "outputs": [],
   "source": [
    "clf_incr.generate_predictions()"
   ]
  },
  {
   "cell_type": "code",
   "execution_count": null,
   "metadata": {},
   "outputs": [],
   "source": [
    "#clf_incr.plot_predictions()"
   ]
  },
  {
   "cell_type": "markdown",
   "metadata": {},
   "source": [
    "Load the next image:"
   ]
  },
  {
   "cell_type": "code",
   "execution_count": null,
   "metadata": {},
   "outputs": [],
   "source": [
    "img, bbox = get_train_instance(path='../../data/AML_trainset/180528_Plate3',\n",
    "                              fname='r05c24', pad=20)\n",
    "\n",
    "img_g = img**gamma\n",
    "# sort color channels in'RGB' order\n",
    "img_rgb = np.dstack((img_g[:,:,1],\n",
    "                     img_g[:,:,2],\n",
    "                     img_g[:,:,0]))\n",
    "# initialize 'ImgX' class\n",
    "imgx = ImgX(img=img_rgb, bbox=bbox, n_chan=3)"
   ]
  },
  {
   "cell_type": "markdown",
   "metadata": {},
   "source": [
    "Update the `imgx` in `clf_incr`:"
   ]
  },
  {
   "cell_type": "code",
   "execution_count": null,
   "metadata": {},
   "outputs": [],
   "source": [
    "clf_incr.imgx = imgx"
   ]
  },
  {
   "cell_type": "code",
   "execution_count": null,
   "metadata": {},
   "outputs": [],
   "source": [
    "clf_incr.generate_predictions()"
   ]
  },
  {
   "cell_type": "code",
   "execution_count": null,
   "metadata": {},
   "outputs": [],
   "source": [
    "viable = np.array([19, 107, 61, 81, 77])\n",
    "other = np.array([0,22,26])"
   ]
  },
  {
   "cell_type": "code",
   "execution_count": null,
   "metadata": {},
   "outputs": [],
   "source": [
    "newlabels = np.concatenate((make_labels(viable, label=1),\n",
    "              make_labels(other, label=2)),\n",
    "          axis=0)"
   ]
  },
  {
   "cell_type": "code",
   "execution_count": null,
   "metadata": {},
   "outputs": [],
   "source": [
    "clf_incr = clf_incr.add_instances(newlabels=newlabels)"
   ]
  },
  {
   "cell_type": "code",
   "execution_count": null,
   "metadata": {},
   "outputs": [],
   "source": [
    "clf_incr.train_classifier()"
   ]
  },
  {
   "cell_type": "code",
   "execution_count": null,
   "metadata": {},
   "outputs": [],
   "source": [
    "clf_incr.generate_predictions()"
   ]
  },
  {
   "cell_type": "code",
   "execution_count": null,
   "metadata": {},
   "outputs": [],
   "source": [
    "#clf_incr.plot_predictions()"
   ]
  },
  {
   "cell_type": "markdown",
   "metadata": {},
   "source": [
    "Load the next image:"
   ]
  },
  {
   "cell_type": "code",
   "execution_count": null,
   "metadata": {},
   "outputs": [],
   "source": [
    "img, bbox = get_train_instance(path='../../data/AML_trainset/180528_Plate3',\n",
    "                              fname='r06c16', pad=20)\n",
    "\n",
    "img_g = img**gamma\n",
    "# sort color channels in'RGB' order\n",
    "img_rgb = np.dstack((img_g[:,:,1],\n",
    "                     img_g[:,:,2],\n",
    "                     img_g[:,:,0]))\n",
    "# initialize 'ImgX' class\n",
    "imgx = ImgX(img=img_rgb, bbox=bbox, n_chan=3)"
   ]
  },
  {
   "cell_type": "code",
   "execution_count": null,
   "metadata": {},
   "outputs": [],
   "source": [
    "clf_incr.imgx = imgx"
   ]
  },
  {
   "cell_type": "code",
   "execution_count": null,
   "metadata": {},
   "outputs": [],
   "source": [
    "clf_incr.generate_predictions()"
   ]
  },
  {
   "cell_type": "code",
   "execution_count": null,
   "metadata": {},
   "outputs": [],
   "source": [
    "other = np.array([22, 80, 105])"
   ]
  },
  {
   "cell_type": "code",
   "execution_count": null,
   "metadata": {},
   "outputs": [],
   "source": [
    "newlabels = make_labels(other, label=2)"
   ]
  },
  {
   "cell_type": "code",
   "execution_count": null,
   "metadata": {},
   "outputs": [],
   "source": [
    "clf_incr = clf_incr.add_instances(newlabels=newlabels)"
   ]
  },
  {
   "cell_type": "code",
   "execution_count": null,
   "metadata": {},
   "outputs": [],
   "source": [
    "clf_incr.train_classifier()"
   ]
  },
  {
   "cell_type": "code",
   "execution_count": null,
   "metadata": {},
   "outputs": [],
   "source": [
    "clf_incr.generate_predictions()"
   ]
  },
  {
   "cell_type": "code",
   "execution_count": null,
   "metadata": {},
   "outputs": [],
   "source": [
    "#clf_incr.plot_predictions()"
   ]
  },
  {
   "cell_type": "code",
   "execution_count": null,
   "metadata": {},
   "outputs": [],
   "source": [
    "img, bbox = get_train_instance(path='../../data/AML_trainset/180528_Plate3',\n",
    "                              fname='r10c18', pad=20)\n",
    "\n",
    "img_g = img**gamma\n",
    "# sort color channels in'RGB' order\n",
    "img_rgb = np.dstack((img_g[:,:,1],\n",
    "                     img_g[:,:,2],\n",
    "                     img_g[:,:,0]))\n",
    "# initialize 'ImgX' class\n",
    "imgx = ImgX(img=img_rgb, bbox=bbox, n_chan=3)"
   ]
  },
  {
   "cell_type": "code",
   "execution_count": null,
   "metadata": {},
   "outputs": [],
   "source": [
    "clf_incr.imgx = imgx"
   ]
  },
  {
   "cell_type": "code",
   "execution_count": null,
   "metadata": {},
   "outputs": [],
   "source": [
    "clf_incr.generate_predictions()"
   ]
  },
  {
   "cell_type": "code",
   "execution_count": null,
   "metadata": {},
   "outputs": [],
   "source": [
    "other = np.array([57,8, 86,97])"
   ]
  },
  {
   "cell_type": "code",
   "execution_count": null,
   "metadata": {},
   "outputs": [],
   "source": [
    "newlabels = make_labels(other, label=2)"
   ]
  },
  {
   "cell_type": "code",
   "execution_count": null,
   "metadata": {},
   "outputs": [],
   "source": [
    "clf_incr = clf_incr.add_instances(newlabels=newlabels)"
   ]
  },
  {
   "cell_type": "code",
   "execution_count": null,
   "metadata": {},
   "outputs": [],
   "source": [
    "clf_incr.train_classifier()"
   ]
  },
  {
   "cell_type": "code",
   "execution_count": null,
   "metadata": {},
   "outputs": [],
   "source": [
    "clf_incr.generate_predictions()"
   ]
  },
  {
   "cell_type": "code",
   "execution_count": null,
   "metadata": {},
   "outputs": [],
   "source": [
    "#clf_incr.plot_predictions()"
   ]
  },
  {
   "cell_type": "code",
   "execution_count": null,
   "metadata": {},
   "outputs": [],
   "source": [
    "img, bbox = get_train_instance(path='../../data/AML_trainset/180528_Plate3',\n",
    "                              fname='r11c06', pad=20)\n",
    "\n",
    "img_g = img**gamma\n",
    "# sort color channels in'RGB' order\n",
    "img_rgb = np.dstack((img_g[:,:,1],\n",
    "                     img_g[:,:,2],\n",
    "                     img_g[:,:,0]))\n",
    "# initialize 'ImgX' class\n",
    "imgx = ImgX(img=img_rgb, bbox=bbox, n_chan=3)"
   ]
  },
  {
   "cell_type": "code",
   "execution_count": null,
   "metadata": {},
   "outputs": [],
   "source": [
    "clf_incr.imgx = imgx"
   ]
  },
  {
   "cell_type": "code",
   "execution_count": null,
   "metadata": {},
   "outputs": [],
   "source": [
    "clf_incr.generate_predictions()"
   ]
  },
  {
   "cell_type": "code",
   "execution_count": null,
   "metadata": {},
   "outputs": [],
   "source": [
    "viable = np.array([16,57])\n",
    "apoptotic = np.array([8])\n",
    "other = np.array([5, 82,83, 47, 23])"
   ]
  },
  {
   "cell_type": "code",
   "execution_count": null,
   "metadata": {},
   "outputs": [],
   "source": [
    "newlabels = np.concatenate((make_labels(viable, label=1),\n",
    "              make_labels(apoptotic, label=0),\n",
    "              make_labels(other, label=2)),\n",
    "          axis=0)"
   ]
  },
  {
   "cell_type": "code",
   "execution_count": null,
   "metadata": {},
   "outputs": [],
   "source": [
    "clf_incr = clf_incr.add_instances(newlabels=newlabels)"
   ]
  },
  {
   "cell_type": "code",
   "execution_count": null,
   "metadata": {},
   "outputs": [],
   "source": [
    "clf_incr.train_classifier()"
   ]
  },
  {
   "cell_type": "code",
   "execution_count": null,
   "metadata": {},
   "outputs": [],
   "source": [
    "clf_incr.generate_predictions()"
   ]
  },
  {
   "cell_type": "code",
   "execution_count": null,
   "metadata": {},
   "outputs": [],
   "source": [
    "#clf_incr.plot_predictions()"
   ]
  },
  {
   "cell_type": "code",
   "execution_count": null,
   "metadata": {},
   "outputs": [],
   "source": [
    "img, bbox = get_train_instance(path='../../data/AML_trainset/180528_Plate3',\n",
    "                              fname='r12c10', pad=20)\n",
    "\n",
    "img_g = img**gamma\n",
    "# sort color channels in'RGB' order\n",
    "img_rgb = np.dstack((img_g[:,:,1],\n",
    "                     img_g[:,:,2],\n",
    "                     img_g[:,:,0]))\n",
    "# initialize 'ImgX' class\n",
    "imgx = ImgX(img=img_rgb, bbox=bbox, n_chan=3)"
   ]
  },
  {
   "cell_type": "code",
   "execution_count": null,
   "metadata": {},
   "outputs": [],
   "source": [
    "clf_incr.imgx = imgx"
   ]
  },
  {
   "cell_type": "code",
   "execution_count": null,
   "metadata": {},
   "outputs": [],
   "source": [
    "clf_incr.generate_predictions()"
   ]
  },
  {
   "cell_type": "code",
   "execution_count": null,
   "metadata": {},
   "outputs": [],
   "source": [
    "other = np.array([56])"
   ]
  },
  {
   "cell_type": "code",
   "execution_count": null,
   "metadata": {},
   "outputs": [],
   "source": [
    "newlabels = make_labels(other, label=2)"
   ]
  },
  {
   "cell_type": "code",
   "execution_count": null,
   "metadata": {},
   "outputs": [],
   "source": [
    "clf_incr = clf_incr.add_instances(newlabels=newlabels)"
   ]
  },
  {
   "cell_type": "code",
   "execution_count": null,
   "metadata": {},
   "outputs": [],
   "source": [
    "clf_incr.train_classifier()"
   ]
  },
  {
   "cell_type": "code",
   "execution_count": null,
   "metadata": {},
   "outputs": [],
   "source": [
    "clf_incr.generate_predictions()"
   ]
  },
  {
   "cell_type": "code",
   "execution_count": null,
   "metadata": {},
   "outputs": [],
   "source": [
    "#clf_incr.plot_predictions()"
   ]
  },
  {
   "cell_type": "markdown",
   "metadata": {},
   "source": [
    "Add the last image:"
   ]
  },
  {
   "cell_type": "code",
   "execution_count": null,
   "metadata": {},
   "outputs": [],
   "source": [
    "img, bbox = get_train_instance(path='../../data/AML_trainset/180528_Plate3',\n",
    "                              fname='r16c02', pad=20)\n",
    "\n",
    "img_g = img**gamma\n",
    "# sort color channels in'RGB' order\n",
    "img_rgb = np.dstack((img_g[:,:,1],\n",
    "                     img_g[:,:,2],\n",
    "                     img_g[:,:,0]))\n",
    "# initialize 'ImgX' class\n",
    "imgx = ImgX(img=img_rgb, bbox=bbox, n_chan=3)"
   ]
  },
  {
   "cell_type": "code",
   "execution_count": null,
   "metadata": {},
   "outputs": [],
   "source": [
    "clf_incr.imgx = imgx"
   ]
  },
  {
   "cell_type": "code",
   "execution_count": null,
   "metadata": {},
   "outputs": [],
   "source": [
    "clf_incr.generate_predictions()"
   ]
  },
  {
   "cell_type": "code",
   "execution_count": null,
   "metadata": {},
   "outputs": [],
   "source": [
    "#clf_incr.plot_predictions()"
   ]
  },
  {
   "cell_type": "code",
   "execution_count": null,
   "metadata": {},
   "outputs": [],
   "source": [
    "viable = np.array([3, 126])"
   ]
  },
  {
   "cell_type": "code",
   "execution_count": null,
   "metadata": {},
   "outputs": [],
   "source": [
    "newlabels = make_labels(viable, label=1)"
   ]
  },
  {
   "cell_type": "code",
   "execution_count": null,
   "metadata": {},
   "outputs": [],
   "source": [
    "clf_incr = clf_incr.add_instances(newlabels=newlabels)"
   ]
  },
  {
   "cell_type": "code",
   "execution_count": null,
   "metadata": {},
   "outputs": [],
   "source": [
    "clf_incr.train_classifier()"
   ]
  },
  {
   "cell_type": "code",
   "execution_count": null,
   "metadata": {},
   "outputs": [],
   "source": [
    "clf_incr.generate_predictions()"
   ]
  },
  {
   "cell_type": "code",
   "execution_count": null,
   "metadata": {},
   "outputs": [],
   "source": [
    "#clf_incr.plot_predictions()"
   ]
  },
  {
   "cell_type": "code",
   "execution_count": null,
   "metadata": {},
   "outputs": [],
   "source": [
    "clf_incr.Xtrain.shape"
   ]
  },
  {
   "cell_type": "code",
   "execution_count": null,
   "metadata": {},
   "outputs": [],
   "source": [
    "clf_incr.train_error()"
   ]
  },
  {
   "cell_type": "code",
   "execution_count": null,
   "metadata": {},
   "outputs": [],
   "source": []
  }
 ],
 "metadata": {
  "kernelspec": {
   "display_name": "Python 2",
   "language": "python",
   "name": "python2"
  },
  "language_info": {
   "codemirror_mode": {
    "name": "ipython",
    "version": 2
   },
   "file_extension": ".py",
   "mimetype": "text/x-python",
   "name": "python",
   "nbconvert_exporter": "python",
   "pygments_lexer": "ipython2",
   "version": "2.7.14"
  }
 },
 "nbformat": 4,
 "nbformat_minor": 2
}
