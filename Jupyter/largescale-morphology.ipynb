{
 "cells": [
  {
   "cell_type": "markdown",
   "metadata": {},
   "source": [
    "# Large-Scale Morphology Analysis"
   ]
  },
  {
   "cell_type": "code",
   "execution_count": null,
   "metadata": {},
   "outputs": [],
   "source": [
    "# load third-party Python modules\n",
    "import javabridge\n",
    "import bioformats as bf\n",
    "import skimage\n",
    "import numpy as np\n",
    "import matplotlib.pyplot as plt\n",
    "import seaborn as sn\n",
    "import pandas as pd\n",
    "import re\n",
    "import os\n",
    "import sys\n",
    "import h5py\n",
    "from sklearn.manifold import TSNE\n",
    "sys.path.append('..')\n",
    "\n",
    "javabridge.start_vm(class_path=bf.JARS)"
   ]
  },
  {
   "cell_type": "code",
   "execution_count": null,
   "metadata": {},
   "outputs": [],
   "source": [
    "def scale_columns(df):\n",
    "    return (df-df.mean())/df.std()"
   ]
  },
  {
   "cell_type": "code",
   "execution_count": null,
   "metadata": {},
   "outputs": [],
   "source": [
    "# load plate annotation\n",
    "annot_df = pd.read_csv('data/AML_trainset/drugannot.txt',\n",
    "                      sep='\\t')"
   ]
  },
  {
   "cell_type": "code",
   "execution_count": null,
   "metadata": {},
   "outputs": [],
   "source": [
    "#plates = [f for f in os.listdir('../imgdata') if 'Plate' in f]\n",
    "plates = ['180528_Plate3', '180528_Plate5',\n",
    "          '180625_Plate3', '181109_Plate1',\n",
    "          '181109_Plate3']"
   ]
  },
  {
   "cell_type": "code",
   "execution_count": null,
   "metadata": {},
   "outputs": [],
   "source": [
    "platedir = os.path.join('../imgdata/', plates[0])"
   ]
  },
  {
   "cell_type": "code",
   "execution_count": null,
   "metadata": {},
   "outputs": [],
   "source": [
    "dmso = annot_df[annot_df.Drug == 'DMSO'].reset_index(drop=True)\n",
    "dmso_wells = dmso['well'].unique()"
   ]
  },
  {
   "cell_type": "code",
   "execution_count": null,
   "metadata": {},
   "outputs": [],
   "source": [
    "imgdf = []\n",
    "for w in dmso_wells:\n",
    "    imgdf.append(pd.read_csv(os.path.join(platedir, w+'.csv')))"
   ]
  },
  {
   "cell_type": "code",
   "execution_count": null,
   "metadata": {},
   "outputs": [],
   "source": [
    "imgdf = pd.concat(imgdf).reset_index(drop=True)\n",
    "labels = imgdf[['class', 'file']]\n",
    "imgdf = imgdf.drop(['class', 'file'], axis=1)\n",
    "labels['well'] = labels['file'].replace(regex=r'f[0-9].+', value='')\n",
    "labels['class'] = labels['class'].apply(lambda x: 'Viable' if x == 2 else 'Apoptotic')\n",
    "labels = pd.merge(labels, dmso, on='well')\n",
    "imgdf_scaled = scale_columns(imgdf)"
   ]
  },
  {
   "cell_type": "code",
   "execution_count": null,
   "metadata": {},
   "outputs": [],
   "source": [
    "feat_subset = ['ch-Calcein-area',\n",
    "               'ch-Calcein-eccentricity',\n",
    "               'ch-Calcein-mean_intensity',\n",
    "               'ch-Hoechst-area',\n",
    "               'ch-Hoechst-eccentricity',\n",
    "               'ch-Hoechst-mean_intensity',\n",
    "               'ch-Lysosomal-area',\n",
    "               'ch-Lysosomal-eccentricity',\n",
    "               'ch-Lysosomal-mean_intensity']"
   ]
  },
  {
   "cell_type": "code",
   "execution_count": null,
   "metadata": {},
   "outputs": [],
   "source": [
    "Xfeat = imgdf_scaled.loc[:,feat_subset]"
   ]
  },
  {
   "cell_type": "code",
   "execution_count": null,
   "metadata": {},
   "outputs": [],
   "source": [
    "X_tsne = TSNE(n_components=2, random_state=21, perplexity=50).fit_transform(imgdf_scaled)"
   ]
  },
  {
   "cell_type": "code",
   "execution_count": null,
   "metadata": {},
   "outputs": [],
   "source": [
    "X_df = pd.concat([pd.DataFrame(X_tsne, columns=['tsne1', 'tsne2']), labels], axis=1)"
   ]
  },
  {
   "cell_type": "code",
   "execution_count": null,
   "metadata": {},
   "outputs": [],
   "source": [
    "X_df = pd.concat([X_df, Xfeat], axis=1)"
   ]
  },
  {
   "cell_type": "code",
   "execution_count": null,
   "metadata": {},
   "outputs": [],
   "source": [
    "fig, ax = plt.subplots(figsize = (9,8))\n",
    "sn.set(font_scale=1.4)\n",
    "sn.set_style('white')\n",
    "sn.despine()\n",
    "sn.scatterplot(x = 'tsne1', y = 'tsne2', data=X_df,\n",
    "               hue = 'Culture', style = 'class',\n",
    "               s = 40, alpha = 0.8)\n",
    "plt.legend(loc='lower right', bbox_to_anchor=(1.2,0.05))\n",
    "ax.spines['right'].set_visible(False)\n",
    "ax.spines['top'].set_visible(False)\n",
    "plt.xlabel('TSNE 1')\n",
    "plt.ylabel('TSNE 2')\n",
    "plt.title('DMSO control wells')"
   ]
  },
  {
   "cell_type": "markdown",
   "metadata": {},
   "source": [
    "## Morphology analysis for viable cells\n",
    "Subset only to viable cells:"
   ]
  },
  {
   "cell_type": "code",
   "execution_count": null,
   "metadata": {},
   "outputs": [],
   "source": [
    "img_viab = imgdf.iloc[np.where(labels['class'] == 'Viable')[0],:]\n",
    "img_viab = scale_columns(img_viab).reset_index(drop=True)\n",
    "labels_viab = (labels[labels['class'] == 'Viable'].\n",
    "              reset_index(drop=True))"
   ]
  },
  {
   "cell_type": "code",
   "execution_count": null,
   "metadata": {},
   "outputs": [],
   "source": [
    "X_tsne = TSNE(n_components=2, random_state=21, perplexity=30).fit_transform(img_viab)"
   ]
  },
  {
   "cell_type": "code",
   "execution_count": null,
   "metadata": {},
   "outputs": [],
   "source": [
    "X_viab = pd.concat([pd.DataFrame(X_tsne, columns=['tsne1', 'tsne2']), labels_viab], axis=1)"
   ]
  },
  {
   "cell_type": "code",
   "execution_count": null,
   "metadata": {},
   "outputs": [],
   "source": [
    "X_viab = pd.concat([X_viab, img_viab.loc[:,feat_subset]], axis=1)"
   ]
  },
  {
   "cell_type": "code",
   "execution_count": null,
   "metadata": {},
   "outputs": [],
   "source": [
    "fig, ax = plt.subplots(figsize = (8,8))\n",
    "sn.set(font_scale=1.3)\n",
    "sn.set_style('white')\n",
    "sn.despine()\n",
    "sn.scatterplot(x = 'tsne1', y = 'tsne2', data=X_viab,\n",
    "               hue = 'Culture', \n",
    "               #style = 'Culture',\n",
    "               #palette = sn.cubehelix_palette(dark=.9, light=.1, as_cmap=True),\n",
    "               s = 60, alpha = 0.5)\n",
    "plt.legend(loc='lower right', bbox_to_anchor=(1.5,0.1))\n",
    "ax.spines['right'].set_visible(False)\n",
    "ax.spines['top'].set_visible(False)\n",
    "plt.xlabel('TSNE 1')\n",
    "plt.ylabel('TSNE 2')\n",
    "plt.title('Viable cells')"
   ]
  },
  {
   "cell_type": "code",
   "execution_count": null,
   "metadata": {},
   "outputs": [],
   "source": [
    "from mpl_toolkits.axes_grid1.inset_locator import inset_axes\n",
    "cmap = sn.diverging_palette(240, 15, as_cmap=True)\n",
    "fig, ax = plt.subplots(nrows=3, ncols=3, figsize = (16,16))\n",
    "sn.despine()\n",
    "for r in range(3):\n",
    "    for c in range(3):\n",
    "        f = feat_subset[3*r+c]\n",
    "        ax[r,c].set_title(f.replace('ch-', ''))\n",
    "        maxval = np.max([np.abs(np.percentile(X_viab[f].values, 0.1)),\n",
    "                         np.abs(np.percentile(X_viab[f].values, 0.9))])\n",
    "        sc = ax[r,c].scatter(x=X_viab['tsne1'].values, \n",
    "                   y=X_viab['tsne2'].values,\n",
    "                   c=X_viab[f].values,\n",
    "                       cmap=cmap, alpha = 0.5,\n",
    "                             vmin=-maxval, vmax=maxval)\n",
    "        cbaxes = inset_axes(ax[r,c], width=\"3%\", height=\"45%\", loc=1) \n",
    "        plt.colorbar(sc, ax=ax[r,c], cax = cbaxes)\n",
    "        \n",
    "\n",
    "fig.text(0.5, 0.04, 'TSNE 1', ha='center')\n",
    "fig.text(0.04, 0.5, 'TSNE 2', va='center', rotation='vertical')"
   ]
  },
  {
   "cell_type": "markdown",
   "metadata": {},
   "source": [
    "Save the viable cells of DMSO wells before loading drug-treated wells:"
   ]
  },
  {
   "cell_type": "code",
   "execution_count": null,
   "metadata": {},
   "outputs": [],
   "source": [
    "img_viab = imgdf.iloc[np.where(labels['class'] == 'Viable')[0],:]\n",
    "X_ctrl = img_viab"
   ]
  },
  {
   "cell_type": "markdown",
   "metadata": {},
   "source": [
    "Now load some drug wells:"
   ]
  },
  {
   "cell_type": "code",
   "execution_count": null,
   "metadata": {},
   "outputs": [],
   "source": [
    "drug_sel = ['Tofacitinib', 'Midostaurin',\n",
    "                   'Ganetespib', 'Lenalidomide',\n",
    "                   'Pyridone 6', 'UMI-77',\n",
    "                   'Bafilomycin A1', \n",
    "                   'Quizartinib', 'Hydroxychloroquine',\n",
    "                   'Fludarabine', 'Vorinostat',\n",
    "                   'Thioguanine', 'Nutlin 3a',\n",
    "                   'Palbociclib', 'Carfilzomib',\n",
    "                   'JQ1', 'Cytarabine',\n",
    "                   'BAY61-3606', 'Venetoclax',\n",
    "                   'Ixazomib']"
   ]
  },
  {
   "cell_type": "code",
   "execution_count": null,
   "metadata": {},
   "outputs": [],
   "source": [
    "drugs = annot_df[np.isin(annot_df.Drug, drug_sel) ].reset_index(drop=True)\n",
    "drug_wells = drugs['well'].unique()"
   ]
  },
  {
   "cell_type": "code",
   "execution_count": null,
   "metadata": {},
   "outputs": [],
   "source": [
    "imgdf = []\n",
    "for w in drug_wells:\n",
    "    df = pd.read_csv(os.path.join(platedir, w+'.csv'))\n",
    "    imgdf.append(df[df['class'] == 2])"
   ]
  },
  {
   "cell_type": "code",
   "execution_count": null,
   "metadata": {},
   "outputs": [],
   "source": [
    "imgdf = pd.concat(imgdf).reset_index(drop=True)\n",
    "labels = imgdf[['class', 'file']]\n",
    "imgdf = imgdf.drop(['class', 'file'], axis=1)\n",
    "labels['well'] = labels['file'].replace(regex=r'f[0-9].+', value='')\n",
    "labels['class'] = labels['class'].apply(lambda x: 'Viable' if x == 2 else 'Apoptotic')\n",
    "labels = pd.merge(labels, drugs, on='well')"
   ]
  },
  {
   "cell_type": "code",
   "execution_count": null,
   "metadata": {
    "scrolled": true
   },
   "outputs": [],
   "source": [
    "X_drug = scale_columns(imgdf)\n",
    "Xfeat = X_drug.loc[:,feat_subset]"
   ]
  },
  {
   "cell_type": "code",
   "execution_count": null,
   "metadata": {},
   "outputs": [],
   "source": [
    "X_tsne = TSNE(n_components=2, random_state=21, perplexity=50).fit_transform(X_drug)"
   ]
  },
  {
   "cell_type": "code",
   "execution_count": null,
   "metadata": {},
   "outputs": [],
   "source": [
    "X_df = pd.concat([pd.DataFrame(X_tsne, columns=['tsne1', 'tsne2']), labels], axis=1)\n",
    "X_df = pd.concat([X_df, Xfeat], axis=1)"
   ]
  },
  {
   "cell_type": "code",
   "execution_count": null,
   "metadata": {},
   "outputs": [],
   "source": [
    "fig, ax = plt.subplots(figsize = (9,8))\n",
    "sn.set(font_scale=1.4)\n",
    "sn.set_style('white')\n",
    "sn.despine()\n",
    "sn.scatterplot(x = 'tsne1', y = 'tsne2', data=X_df,\n",
    "               hue = 'Culture',\n",
    "               s = 40, alpha = 0.8)\n",
    "plt.legend(loc='lower right', bbox_to_anchor=(1.2,0.05))\n",
    "ax.spines['right'].set_visible(False)\n",
    "ax.spines['top'].set_visible(False)\n",
    "plt.xlabel('TSNE 1')\n",
    "plt.ylabel('TSNE 2')\n",
    "plt.title('Drug-treated wells')"
   ]
  },
  {
   "cell_type": "code",
   "execution_count": null,
   "metadata": {},
   "outputs": [],
   "source": [
    "drug_chunks = [drug_sel[i:i + 5] for i in range(0, len(drug_sel), 5)]"
   ]
  },
  {
   "cell_type": "code",
   "execution_count": null,
   "metadata": {},
   "outputs": [],
   "source": [
    "fig, ax = plt.subplots(ncols=2, nrows=2,\n",
    "                       figsize = (14,12))\n",
    "sn.set(font_scale=1.2)\n",
    "sn.set_style('white')\n",
    "sn.despine()\n",
    "for r in range(2):\n",
    "    for c in range(2):\n",
    "        sn.scatterplot(x = 'tsne1', y = 'tsne2', data=X_df[np.isin(X_df['Drug'], drug_chunks[r*2+c])],\n",
    "               hue = 'Drug',\n",
    "               s = 40, alpha = 0.8, ax=ax[r,c])\n",
    "        ax[r,c].legend(loc='lower right', bbox_to_anchor=(1.4,0.7))\n",
    "        ax[r,c].set_xlabel('TSNE 1')\n",
    "        ax[r,c].set_ylabel('TSNE 2')\n",
    "fig.subplots_adjust(wspace=0.5)"
   ]
  },
  {
   "cell_type": "code",
   "execution_count": null,
   "metadata": {},
   "outputs": [],
   "source": [
    "cmap = sn.diverging_palette(240, 15, as_cmap=True)\n",
    "fig, ax = plt.subplots(nrows=3, ncols=3, figsize = (16,16))\n",
    "sn.despine()\n",
    "for r in range(3):\n",
    "    for c in range(3):\n",
    "        f = feat_subset[3*r+c]\n",
    "        ax[r,c].set_title(f.replace('ch-', ''))\n",
    "        maxval = np.max([np.abs(np.percentile(X_df[f].values, 0.1)),\n",
    "                         np.abs(np.percentile(X_df[f].values, 0.9))])\n",
    "        sc = ax[r,c].scatter(x=X_df['tsne1'].values, \n",
    "                   y=X_df['tsne2'].values,\n",
    "                   c=X_df[f].values,\n",
    "                       cmap=cmap, alpha = 0.5,\n",
    "                             vmin=-maxval, vmax=maxval)\n",
    "        cbaxes = inset_axes(ax[r,c], width=\"3%\", height=\"45%\",\n",
    "                            loc='upper right') \n",
    "        plt.colorbar(sc, ax=ax[r,c], cax = cbaxes)\n",
    "        \n",
    "fig.subplots_adjust(wspace=0.4)\n",
    "fig.text(0.5, 0.04, 'TSNE 1', ha='center')\n",
    "fig.text(0.04, 0.5, 'TSNE 2', va='center', rotation='vertical')"
   ]
  },
  {
   "cell_type": "code",
   "execution_count": null,
   "metadata": {},
   "outputs": [],
   "source": [
    "X_df.columns"
   ]
  },
  {
   "cell_type": "code",
   "execution_count": null,
   "metadata": {},
   "outputs": [],
   "source": [
    "colsub = ['Culture'] +feat_subset\n",
    "X_long = pd.melt(X_df[colsub], \n",
    "                 id_vars=['Culture'], \n",
    "                 value_vars=feat_subset,\n",
    "                 var_name='feature', \n",
    "                 value_name='val')"
   ]
  },
  {
   "cell_type": "code",
   "execution_count": null,
   "metadata": {},
   "outputs": [],
   "source": [
    "plt.figure(figsize=(10,10))\n",
    "g = sn.FacetGrid(X_long,\n",
    "                 col=\"feature\",\n",
    "                 hue=\"Culture\",\n",
    "                col_wrap=3,\n",
    "                sharex=False)\n",
    "g.map(sn.kdeplot, \"val\", lw=3).add_legend()\n",
    "axes = g.axes.flatten()\n",
    "for i, ax in enumerate(axes):\n",
    "    ax.set_title(feat_subset[i].replace('ch-', ''))\n",
    "    ax.set_xlabel('')"
   ]
  },
  {
   "cell_type": "code",
   "execution_count": null,
   "metadata": {},
   "outputs": [],
   "source": [
    "colsub = ['Drug', 'Culture'] +feat_subset\n",
    "X_long = pd.melt(X_df[colsub], \n",
    "                 id_vars=['Drug', 'Culture'], \n",
    "                 value_vars=feat_subset,\n",
    "                 var_name='feature', \n",
    "                 value_name='val')"
   ]
  },
  {
   "cell_type": "code",
   "execution_count": null,
   "metadata": {},
   "outputs": [],
   "source": [
    "plt.figure(figsize=(10,10))\n",
    "g = sn.catplot(x=\"Drug\", y=\"val\", \n",
    "               col=\"feature\", hue='Culture',\n",
    "               kind=\"box\", data=X_long,\n",
    "               sharey=False,\n",
    "               col_wrap=3)\n",
    "axes = g.axes.flatten()\n",
    "plt.xticks(rotation=90)\n",
    "for i, ax in enumerate(axes):\n",
    "    ax.set_title(feat_subset[i].replace('ch-', ''))\n",
    "    ax.set_xlabel('')\n",
    "    if i % 3 == 0:\n",
    "        ax.set_ylabel('Standardized value')\n",
    "    if i > 5:\n",
    "        ax.set_xticklabels(ax.get_xticklabels(), rotation=90)"
   ]
  },
  {
   "cell_type": "code",
   "execution_count": null,
   "metadata": {},
   "outputs": [],
   "source": [
    "X_ctrl = X_ctrl.reset_index(drop=True)                     "
   ]
  },
  {
   "cell_type": "code",
   "execution_count": null,
   "metadata": {},
   "outputs": [],
   "source": [
    "labels_viab = labels_viab.reset_index(drop=True)"
   ]
  },
  {
   "cell_type": "code",
   "execution_count": null,
   "metadata": {},
   "outputs": [],
   "source": [
    "Xfeat = pd.concat([labels_viab['Culture'], X_ctrl], axis=1)"
   ]
  },
  {
   "cell_type": "markdown",
   "metadata": {},
   "source": [
    "Check correlation structure of the features:"
   ]
  },
  {
   "cell_type": "code",
   "execution_count": null,
   "metadata": {},
   "outputs": [],
   "source": [
    "from scipy.spatial.distance import pdist, squareform\n",
    "def cordf(X):\n",
    "    return squareform(1. - pdist(X, 'correlation'))"
   ]
  },
  {
   "cell_type": "code",
   "execution_count": null,
   "metadata": {},
   "outputs": [],
   "source": [
    "# feature correlation\n",
    "featcor = pd.DataFrame(cordf(X_ctrl.T),\n",
    "                       index=X_ctrl.columns,\n",
    "                       columns=X_ctrl.columns )"
   ]
  },
  {
   "cell_type": "code",
   "execution_count": null,
   "metadata": {},
   "outputs": [],
   "source": [
    "import matplotlib.colors as mcolors\n",
    "def make_colormap(seq):\n",
    "    \"\"\"Return a LinearSegmentedColormap\n",
    "    seq: a sequence of floats and RGB-tuples. The floats should be increasing\n",
    "    and in the interval (0,1).\n",
    "    \"\"\"\n",
    "    seq = [(None,) * 3, 0.0] + list(seq) + [1.0, (None,) * 3]\n",
    "    cdict = {'red': [], 'green': [], 'blue': []}\n",
    "    for i, item in enumerate(seq):\n",
    "        if isinstance(item, float):\n",
    "            r1, g1, b1 = seq[i - 1]\n",
    "            r2, g2, b2 = seq[i + 1]\n",
    "            cdict['red'].append([item, r1, r2])\n",
    "            cdict['green'].append([item, g1, g2])\n",
    "            cdict['blue'].append([item, b1, b2])\n",
    "    return mcolors.LinearSegmentedColormap('CustomMap', cdict)\n",
    "\n",
    "def diverge_map(high=(0.565, 0.392, 0.173), low=(0.094, 0.310, 0.635)):\n",
    "    '''\n",
    "    low and high are colors that will be used for the two\n",
    "    ends of the spectrum. they can be either color strings\n",
    "    or rgb color tuples\n",
    "    '''\n",
    "    c = mcolors.ColorConverter().to_rgb\n",
    "    if isinstance(low, str): low = c(low)\n",
    "    if isinstance(high, str): high = c(high)\n",
    "    return make_colormap([low, c('white'), 0.5, c('white'), high])\n"
   ]
  },
  {
   "cell_type": "code",
   "execution_count": null,
   "metadata": {},
   "outputs": [],
   "source": [
    "#cmap = sn.diverging_palette(220, 40, as_cmap=True)\n",
    "#cmap = plt.get_cmap(\"coolwarm\")\n",
    "cmap = diverge_map(low='teal', high='goldenrod')"
   ]
  },
  {
   "cell_type": "code",
   "execution_count": null,
   "metadata": {},
   "outputs": [],
   "source": [
    "# plot the heatmap and annotation on it\n",
    "ax = sn.clustermap(featcor,\n",
    "           xticklabels=False,\n",
    "           yticklabels=False,\n",
    "                  cmap=cmap,\n",
    "                 cbar_pos=(1, .45, .03, .3),\n",
    "                  vmin=-1,\n",
    "                  vmax=1,\n",
    "                  figsize=(6.5,6))\n",
    "ax.ax_row_dendrogram.set_visible(False)\n",
    "ax.ax_col_dendrogram.set_visible(False)\n",
    "#ax.savefig('featcor-AML.pdf',  bbox_inches='tight')"
   ]
  },
  {
   "cell_type": "markdown",
   "metadata": {},
   "source": [
    "Run Mann-Whitney-Wilcoxon test:"
   ]
  },
  {
   "cell_type": "code",
   "execution_count": null,
   "metadata": {},
   "outputs": [],
   "source": [
    "from scipy.stats import mannwhitneyu"
   ]
  },
  {
   "cell_type": "code",
   "execution_count": null,
   "metadata": {},
   "outputs": [],
   "source": [
    "plt.hist((X_ctrl.apply(lambda x: mannwhitneyu(x[labels_viab.Culture == 'Mono-culture'],\n",
    "                                     x[labels_viab.Culture == 'Co-culture'])[1])).values)"
   ]
  },
  {
   "cell_type": "code",
   "execution_count": null,
   "metadata": {},
   "outputs": [],
   "source": [
    "pvaldf = pd.DataFrame(X_ctrl.apply(lambda x: mannwhitneyu(x[labels_viab.Culture == 'Mono-culture'],\n",
    "                                     x[labels_viab.Culture == 'Co-culture'])[1]), columns=['pval'])"
   ]
  },
  {
   "cell_type": "code",
   "execution_count": null,
   "metadata": {},
   "outputs": [],
   "source": [
    "pvaldf.head()"
   ]
  },
  {
   "cell_type": "code",
   "execution_count": null,
   "metadata": {},
   "outputs": [],
   "source": []
  }
 ],
 "metadata": {
  "kernelspec": {
   "display_name": "Python 3",
   "language": "python",
   "name": "python3"
  },
  "language_info": {
   "codemirror_mode": {
    "name": "ipython",
    "version": 3
   },
   "file_extension": ".py",
   "mimetype": "text/x-python",
   "name": "python",
   "nbconvert_exporter": "python",
   "pygments_lexer": "ipython3",
   "version": "3.8.3"
  }
 },
 "nbformat": 4,
 "nbformat_minor": 2
}
