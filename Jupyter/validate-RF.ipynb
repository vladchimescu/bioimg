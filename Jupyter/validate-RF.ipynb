{
 "cells": [
  {
   "cell_type": "markdown",
   "metadata": {},
   "source": [
    "## Validate and Test Random Forest Classifier"
   ]
  },
  {
   "cell_type": "code",
   "execution_count": null,
   "metadata": {},
   "outputs": [],
   "source": [
    "# load third-party Python modules\n",
    "import javabridge\n",
    "import bioformats as bf\n",
    "import skimage\n",
    "import numpy as np\n",
    "import matplotlib.pyplot as plt\n",
    "import seaborn as sn\n",
    "import pandas as pd\n",
    "import os\n",
    "import sys\n",
    "import h5py\n",
    "sys.path.append('../../..')\n",
    "\n",
    "javabridge.start_vm(class_path=bf.JARS)"
   ]
  },
  {
   "cell_type": "code",
   "execution_count": null,
   "metadata": {},
   "outputs": [],
   "source": [
    "hf = h5py.File('trainset.h5', 'r')\n",
    "ytrain = np.asarray(hf.get('final/ytrain'))\n",
    "Xtrain = np.asarray(hf.get('final/Xtrain'))\n",
    "columns = np.asarray(hf.get('final/columns'))\n",
    "Xtrain_df = pd.DataFrame(Xtrain, columns=columns)\n",
    "hf.close()"
   ]
  },
  {
   "cell_type": "code",
   "execution_count": null,
   "metadata": {},
   "outputs": [],
   "source": [
    "from base.utils import load_imgstack\n",
    "from segment.tools import read_bbox\n",
    "from sklearn.preprocessing import label_binarize\n",
    "\n",
    "def get_train_instance(path, fname, pad=0):\n",
    "    imgstack = load_imgstack(fname=os.path.join(path, fname + \".png\"),\n",
    "                            verbose=False)\n",
    "    img = np.squeeze(imgstack)\n",
    "    df = pd.read_csv(os.path.join(path, fname + \".csv\"))\n",
    "    rmax, cmax, _ = img.shape\n",
    "    bbox = read_bbox(df=df, rmax=rmax,\n",
    "                     cmax=cmax, pad=pad)\n",
    "    return img, bbox\n",
    "\n",
    "def make_labels(arr, label=1):\n",
    "    return np.vstack((arr, label * np.ones(arr.shape, dtype=np.int))).T"
   ]
  },
  {
   "cell_type": "code",
   "execution_count": null,
   "metadata": {},
   "outputs": [],
   "source": [
    "from plotly.offline import init_notebook_mode\n",
    "init_notebook_mode(connected=True)"
   ]
  },
  {
   "cell_type": "code",
   "execution_count": null,
   "metadata": {},
   "outputs": [],
   "source": [
    "path = '../../data/AML_trainset/test'"
   ]
  },
  {
   "cell_type": "code",
   "execution_count": null,
   "metadata": {},
   "outputs": [],
   "source": [
    "sys.path.append('../../../../')\n",
    "from bioimg.classify import ImgX, IncrementalClassifier"
   ]
  },
  {
   "cell_type": "code",
   "execution_count": null,
   "metadata": {},
   "outputs": [],
   "source": [
    "clf_incr = IncrementalClassifier()\n",
    "clf_incr.ytrain = label_binarize(ytrain, classes=range(3))\n",
    "clf_incr.Xtrain = Xtrain_df\n",
    "clf_incr.classes = ['apoptotic', 'viable', 'other']"
   ]
  },
  {
   "cell_type": "code",
   "execution_count": null,
   "metadata": {},
   "outputs": [],
   "source": [
    "clf_incr.set_classifier().train_classifier()"
   ]
  },
  {
   "cell_type": "code",
   "execution_count": null,
   "metadata": {},
   "outputs": [],
   "source": [
    "imgs = [f.replace('.csv', '') for f in os.listdir(path) if '.csv' in f]"
   ]
  },
  {
   "cell_type": "code",
   "execution_count": null,
   "metadata": {},
   "outputs": [],
   "source": [
    "len(imgs)"
   ]
  },
  {
   "cell_type": "code",
   "execution_count": null,
   "metadata": {},
   "outputs": [],
   "source": [
    "rmax, cmax = (720,720)"
   ]
  },
  {
   "cell_type": "code",
   "execution_count": null,
   "metadata": {},
   "outputs": [],
   "source": [
    "test_gtruth = pd.read_csv('../../data/AML_trainset/test_labels.csv')"
   ]
  },
  {
   "cell_type": "code",
   "execution_count": null,
   "metadata": {},
   "outputs": [],
   "source": [
    "from collections import namedtuple\n",
    "Box = namedtuple('Box', 'xmin xmax ymin ymax')\n",
    "\n",
    "def area_overlap(a, b):  # returns None if rectangles don't intersect\n",
    "    dx = min(a.xmax, b.xmax) - max(a.xmin, b.xmin)\n",
    "    dy = min(a.ymax, b.ymax) - max(a.ymin, b.ymin)\n",
    "    if (dx>=0) and (dy>=0):\n",
    "        return dx*dy"
   ]
  },
  {
   "cell_type": "code",
   "execution_count": null,
   "metadata": {},
   "outputs": [],
   "source": [
    "i = 0\n",
    "img, bbox = get_train_instance(path=path,\n",
    "                          fname=imgs[i], pad=20)\n",
    "bbox_gt = read_bbox(df=test_gtruth[test_gtruth.filename ==''.join([imgs[i], '.png'])], \n",
    "             columns=['ymin','xmin','ymax','xmax'],\n",
    "             rmax=720,\n",
    "             cmax=720, pad=0)"
   ]
  },
  {
   "cell_type": "code",
   "execution_count": null,
   "metadata": {},
   "outputs": [],
   "source": [
    "# initialize 'ImgX' class\n",
    "imgx = ImgX(img=img, bbox=bbox,\n",
    "            n_chan=['Lysosomal', 'Calcein', 'Hoechst'])\n",
    "clf_incr.imgx = imgx"
   ]
  },
  {
   "cell_type": "code",
   "execution_count": null,
   "metadata": {},
   "outputs": [],
   "source": [
    "clf_incr.generate_predictions()\n",
    "probs = clf_incr.clf.predict_proba(imgx.data)"
   ]
  },
  {
   "cell_type": "code",
   "execution_count": null,
   "metadata": {},
   "outputs": [],
   "source": [
    "df = pd.read_csv(os.path.join(path, imgs[i] + \".csv\"))\n",
    "bbox_nopad = read_bbox(df=df, rmax=rmax, cmax=cmax, pad=0)"
   ]
  },
  {
   "cell_type": "code",
   "execution_count": null,
   "metadata": {},
   "outputs": [],
   "source": [
    "y_gt = test_gtruth[test_gtruth.filename ==''.join([imgs[i], '.png'])]['class'].values\n",
    "y_gt[y_gt=='apoptotic AML'] = 0\n",
    "y_gt[y_gt=='viable AML'] = 1\n",
    "\n",
    "df_list = []\n",
    "for bt,y in zip(bbox_gt, y_gt):\n",
    "    for b, b_nopad in zip(bbox, bbox_nopad):\n",
    "        A_common = area_overlap(Box(*bt), Box(*b_nopad))\n",
    "        if A_common > 200:\n",
    "            label_df = pd.DataFrame(data=b_nopad[None,...],\n",
    "                                    columns=['bbox-1', 'bbox-3', 'bbox-0', 'bbox-2'])\n",
    "            label_df['y'] = y\n",
    "            label_df['Acom'] = A_common\n",
    "            df_list.append(label_df)\n",
    "if(len(df_list)):\n",
    "    df_unique = (pd.concat(df_list).\n",
    "                 groupby(by=['bbox-0', 'bbox-1', 'bbox-2', 'bbox-3']).\n",
    "                 apply(lambda x: x.loc[x.Acom == x.Acom.max(),:]).\n",
    "                 reset_index(drop=True))\n",
    "    img_df = pd.merge(left=df, right=df_unique,\n",
    "         on=['bbox-0','bbox-1','bbox-2','bbox-3'], how='left')\n",
    "    img_df = img_df[['bbox-0','bbox-1','bbox-2','bbox-3','y']]\n",
    "    img_df = img_df.fillna(2)\n",
    "    img_df = img_df.astype(int)"
   ]
  },
  {
   "cell_type": "code",
   "execution_count": null,
   "metadata": {},
   "outputs": [],
   "source": [
    "img_df['ypred'] = imgx.y\n",
    "img_df['p_apoptotic'] = probs[:,0]\n",
    "img_df['p_viable'] = probs[:,1]\n",
    "img_df['p_other'] = probs[:,2]\n",
    "img_df"
   ]
  },
  {
   "cell_type": "code",
   "execution_count": null,
   "metadata": {},
   "outputs": [],
   "source": [
    "from extra.viz import plotly_predictions\n",
    "from plotly.offline import iplot"
   ]
  },
  {
   "cell_type": "code",
   "execution_count": null,
   "metadata": {},
   "outputs": [],
   "source": [
    "layout, feats = plotly_predictions(img,bb=bbox,\n",
    "                   ypred=img_df['ypred'].values,\n",
    "                   labels=['apoptotic AML',\n",
    "                          'viable AML', 'other'])"
   ]
  },
  {
   "cell_type": "code",
   "execution_count": null,
   "metadata": {},
   "outputs": [],
   "source": [
    "#iplot(dict(data=feats, layout=layout))"
   ]
  },
  {
   "cell_type": "code",
   "execution_count": null,
   "metadata": {},
   "outputs": [],
   "source": [
    "pred_df = []\n",
    "for i in range(len(imgs)):\n",
    "    img, bbox = get_train_instance(path=path,\n",
    "                          fname=imgs[i], pad=20)\n",
    "    bbox_gt = read_bbox(df=test_gtruth[test_gtruth.filename ==''.join([imgs[i], '.png'])], \n",
    "                 columns=['ymin','xmin','ymax','xmax'],\n",
    "                 rmax=720,\n",
    "                 cmax=720, pad=0)\n",
    "    # initialize 'ImgX' class\n",
    "    imgx = ImgX(img=img, bbox=bbox,\n",
    "                n_chan=['Lysosomal', 'Calcein', 'Hoechst'])\n",
    "    clf_incr.imgx = imgx\n",
    "    \n",
    "    clf_incr.generate_predictions()\n",
    "    probs = clf_incr.clf.predict_proba(imgx.data)\n",
    "    df = pd.read_csv(os.path.join(path, imgs[i] + \".csv\"))\n",
    "    bbox_nopad = read_bbox(df=df, rmax=rmax, cmax=cmax, pad=0)\n",
    "    y_gt = test_gtruth[test_gtruth.filename ==''.join([imgs[i], '.png'])]['class'].values\n",
    "    y_gt[y_gt=='apoptotic AML'] = 0\n",
    "    y_gt[y_gt=='viable AML'] = 1\n",
    "\n",
    "    df_list = []\n",
    "    for bt,y in zip(bbox_gt, y_gt):\n",
    "        for b, b_nopad in zip(bbox, bbox_nopad):\n",
    "            A_common = area_overlap(Box(*bt), Box(*b_nopad))\n",
    "            if A_common > 200:\n",
    "                label_df = pd.DataFrame(data=b_nopad[None,...],\n",
    "                                        columns=['bbox-1', 'bbox-3', 'bbox-0', 'bbox-2'])\n",
    "                label_df['y'] = y\n",
    "                label_df['Acom'] = A_common\n",
    "                df_list.append(label_df)\n",
    "    if(len(df_list)):\n",
    "        df_unique = (pd.concat(df_list).\n",
    "                     groupby(by=['bbox-0', 'bbox-1', 'bbox-2', 'bbox-3']).\n",
    "                     apply(lambda x: x.loc[x.Acom == x.Acom.max(),:]).\n",
    "                     reset_index(drop=True))\n",
    "        img_df = pd.merge(left=df, right=df_unique,\n",
    "             on=['bbox-0','bbox-1','bbox-2','bbox-3'], how='left')\n",
    "        img_df = img_df[['bbox-0','bbox-1','bbox-2','bbox-3','y']]\n",
    "        img_df = img_df.fillna(2)\n",
    "        img_df = img_df.astype(int)\n",
    "        img_df['ypred'] = imgx.y\n",
    "        img_df['p_apoptotic'] = probs[:,0]\n",
    "        img_df['p_viable'] = probs[:,1]\n",
    "        img_df['p_other'] = probs[:,2]\n",
    "        pred_df.append(img_df)"
   ]
  },
  {
   "cell_type": "code",
   "execution_count": null,
   "metadata": {},
   "outputs": [],
   "source": [
    "from sklearn.metrics import confusion_matrix"
   ]
  },
  {
   "cell_type": "code",
   "execution_count": null,
   "metadata": {},
   "outputs": [],
   "source": [
    "pred_test = pd.concat(pred_df)"
   ]
  },
  {
   "cell_type": "code",
   "execution_count": null,
   "metadata": {},
   "outputs": [],
   "source": [
    "pred_test.head()"
   ]
  },
  {
   "cell_type": "code",
   "execution_count": null,
   "metadata": {},
   "outputs": [],
   "source": [
    "confusion_matrix(y_pred=pred_test['ypred'], y_true=pred_test['y'])"
   ]
  },
  {
   "cell_type": "code",
   "execution_count": null,
   "metadata": {},
   "outputs": [],
   "source": [
    "from sklearn.metrics import roc_curve, auc\n",
    "from sklearn.metrics import precision_recall_curve\n",
    "from sklearn.metrics import average_precision_score\n",
    "from sklearn.metrics import precision_score\n",
    "from sklearn.preprocessing import label_binarize"
   ]
  },
  {
   "cell_type": "code",
   "execution_count": null,
   "metadata": {},
   "outputs": [],
   "source": [
    "y_test = label_binarize(pred_test['y'].values, [0,1,2])\n",
    "probas_ = pred_test[['p_apoptotic', 'p_viable', 'p_other']].values"
   ]
  },
  {
   "cell_type": "code",
   "execution_count": null,
   "metadata": {},
   "outputs": [],
   "source": [
    "fpr = dict()\n",
    "tpr = dict()\n",
    "roc_auc = dict()\n",
    "precision = dict()\n",
    "recall = dict()\n",
    "avprec = dict()\n",
    "for i in range(3):\n",
    "    fpr[i], tpr[i], _ = roc_curve(y_test[:, i], probas_[:, i])\n",
    "    roc_auc[i] = auc(fpr[i], tpr[i])\n",
    "    precision[i], recall[i], _ = precision_recall_curve(y_test[:, i],\n",
    "                                                        probas_[:, i])\n",
    "    avprec[i] = average_precision_score(y_test[:, i], probas_[:, i])"
   ]
  },
  {
   "cell_type": "code",
   "execution_count": null,
   "metadata": {},
   "outputs": [],
   "source": [
    "import matplotlib\n",
    "font = {'family' : 'normal',\n",
    "        'size'   : 14}\n",
    "\n",
    "matplotlib.rc('font', **font)"
   ]
  },
  {
   "cell_type": "code",
   "execution_count": null,
   "metadata": {},
   "outputs": [],
   "source": [
    "from itertools import cycle\n",
    "colors = cycle(['#27496d','#63b7af', '#dae1e7'])\n",
    "class_names = ['Apoptotic AML', 'Viable AML', 'Other']\n",
    "\n",
    "plt.figure(figsize=(7, 7))\n",
    "f_scores = np.linspace(0.5, 0.9, num=5)\n",
    "\n",
    "for f_score in f_scores:\n",
    "    x = np.linspace(0.01, 1)\n",
    "    y_ = f_score * x / (2 * x - f_score)\n",
    "    plt.plot(x[y_ >= 0], y_[y_ >= 0], color='gray', alpha=0.2)\n",
    "    plt.annotate('F1={0:0.1f}'.format(f_score), xy=(0.9, y_[45] + 0.02))\n",
    "for i, color in zip(range(3), colors):\n",
    "    plt.plot(recall[i], precision[i], color=color, lw=4,\n",
    "             label='{0} (AP = {1:0.2f})'\n",
    "             ''.format(class_names[i], avprec[i]))\n",
    "\n",
    "plt.xlim([0.0, 1.0])\n",
    "plt.ylim([0.0, 1.05])\n",
    "plt.xlabel('Recall')\n",
    "plt.ylabel('Precision')\n",
    "plt.title('Precision-recall Random Forest')\n",
    "plt.legend(loc=\"lower left\")\n",
    "plt.savefig('PR-randomforest.pdf')"
   ]
  },
  {
   "cell_type": "code",
   "execution_count": null,
   "metadata": {},
   "outputs": [],
   "source": [
    "plt.figure(figsize=(7, 7))\n",
    "for i, color in zip(range(3), colors):\n",
    "    plt.plot(fpr[i], tpr[i], color=color, lw=4,\n",
    "             label='{0} (AUCROC = {1:0.2f})'\n",
    "             ''.format(class_names[i], roc_auc[i]))\n",
    "\n",
    "plt.plot([0, 1], [0, 1], 'k--', lw=2)\n",
    "plt.xlim([0.0, 1.0])\n",
    "plt.ylim([0.0, 1.05])\n",
    "plt.xlabel('False Positive Rate')\n",
    "plt.ylabel('True Positive Rate')\n",
    "plt.title('ROC Random forest')\n",
    "plt.legend(loc=\"lower right\")\n",
    "plt.savefig('ROC-randomforest.pdf')"
   ]
  },
  {
   "cell_type": "code",
   "execution_count": null,
   "metadata": {},
   "outputs": [],
   "source": []
  }
 ],
 "metadata": {
  "kernelspec": {
   "display_name": "Python 2",
   "language": "python",
   "name": "python2"
  },
  "language_info": {
   "codemirror_mode": {
    "name": "ipython",
    "version": 2
   },
   "file_extension": ".py",
   "mimetype": "text/x-python",
   "name": "python",
   "nbconvert_exporter": "python",
   "pygments_lexer": "ipython2",
   "version": "2.7.14"
  }
 },
 "nbformat": 4,
 "nbformat_minor": 2
}
